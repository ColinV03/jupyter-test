{
    "cells": [
        {
            "cell_type": "markdown",
            "source": [
                "# This is fantastic! Itemized Python Cells! \r\n"
            ],
            "metadata": {}
        },
        {
            "cell_type": "markdown",
            "source": [
                "#### This is some of the sub-headers that can be created! \r\n",
                "\r\n"
            ],
            "metadata": {}
        },
        {
            "cell_type": "markdown",
            "source": [
                "Tutorial can be found [here](https://www.learnpython.org/)"
            ],
            "metadata": {}
        },
        {
            "cell_type": "markdown",
            "source": [
                "#### Intro to Python work: "
            ],
            "metadata": {}
        },
        {
            "cell_type": "code",
            "execution_count": 5,
            "source": [
                "print(\"Hello World! \")\r\n",
                "\r\n"
            ],
            "outputs": [
                {
                    "output_type": "stream",
                    "name": "stdout",
                    "text": [
                        "Hello World! \n"
                    ]
                }
            ],
            "metadata": {}
        },
        {
            "cell_type": "code",
            "execution_count": 4,
            "source": [
                "name = input(\"What's your name?:  \")\r\n",
                "print(\"Hello, {}\".format(name))"
            ],
            "outputs": [
                {
                    "output_type": "stream",
                    "name": "stdout",
                    "text": [
                        "Hello, Colin\n"
                    ]
                }
            ],
            "metadata": {}
        },
        {
            "cell_type": "markdown",
            "source": [
                "#### Some Variable work: \r\n"
            ],
            "metadata": {}
        },
        {
            "cell_type": "code",
            "execution_count": 3,
            "source": [
                "name = \"Colin\"\r\n",
                "print(name)"
            ],
            "outputs": [
                {
                    "output_type": "stream",
                    "name": "stdout",
                    "text": [
                        "Colin\n"
                    ]
                }
            ],
            "metadata": {}
        },
        {
            "cell_type": "markdown",
            "source": [
                "##### Float Numbers`"
            ],
            "metadata": {}
        },
        {
            "cell_type": "code",
            "execution_count": 13,
            "source": [
                "myFloat = 4.0\r\n",
                "print(myFloat)\r\n",
                "myFloat = float(5)\r\n",
                "print(myFloat)"
            ],
            "outputs": [
                {
                    "output_type": "stream",
                    "name": "stdout",
                    "text": [
                        "4.0\n",
                        "5.0\n"
                    ]
                }
            ],
            "metadata": {}
        },
        {
            "cell_type": "markdown",
            "source": [
                "##### String Storage"
            ],
            "metadata": {}
        },
        {
            "cell_type": "code",
            "execution_count": 14,
            "source": [
                "someText = \"Hello!\"\r\n",
                "print(someText)"
            ],
            "outputs": [
                {
                    "output_type": "stream",
                    "name": "stdout",
                    "text": [
                        "Hello!\n"
                    ]
                }
            ],
            "metadata": {}
        },
        {
            "cell_type": "markdown",
            "source": [
                "##### multi storage: \r\n"
            ],
            "metadata": {}
        },
        {
            "cell_type": "code",
            "execution_count": 15,
            "source": [
                "a,b = 3, 4\r\n",
                "print(a,b)"
            ],
            "outputs": [
                {
                    "output_type": "stream",
                    "name": "stdout",
                    "text": [
                        "3 4\n"
                    ]
                }
            ],
            "metadata": {}
        },
        {
            "cell_type": "markdown",
            "source": [
                "##### Lists! "
            ],
            "metadata": {}
        },
        {
            "cell_type": "code",
            "execution_count": 18,
            "source": [
                "myList = []\r\n",
                "myList.append(1)\r\n",
                "myList.append(2)\r\n",
                "myList.append(3)\r\n",
                "\r\n",
                "print(myList)\r\n",
                "\r\n",
                "#Also, some looping! \r\n",
                "\r\n",
                "\r\n",
                "for x in myList:\r\n",
                "    print(x)"
            ],
            "outputs": [
                {
                    "output_type": "stream",
                    "name": "stdout",
                    "text": [
                        "[1, 2, 3]\n",
                        "1\n",
                        "2\n",
                        "3\n"
                    ]
                }
            ],
            "metadata": {}
        },
        {
            "cell_type": "markdown",
            "source": [
                "### Math Time!"
            ],
            "metadata": {}
        },
        {
            "cell_type": "code",
            "execution_count": 20,
            "source": [
                "# all the fun features, including modulus(remainder)\r\n",
                "\r\n",
                "sum = 1 + 2\r\n",
                "subtract = 2 - 1\r\n",
                "multiply = 3 * 3\r\n",
                "divide = 21 / 7\r\n",
                "\r\n",
                "#How many times it can divide, and then returns the remainder of the value associated with it.\r\n",
                " \r\n",
                "remainder = 24 % 7\r\n",
                "\r\n",
                "print(sum)\r\n",
                "print(subtract)\r\n",
                "print(multiply)\r\n",
                "print(divide)\r\n",
                "print(remainder)\r\n"
            ],
            "outputs": [
                {
                    "output_type": "stream",
                    "name": "stdout",
                    "text": [
                        "3\n",
                        "1\n",
                        "9\n",
                        "3.0\n",
                        "3\n"
                    ]
                }
            ],
            "metadata": {}
        },
        {
            "cell_type": "markdown",
            "source": [
                "#### With Lists: "
            ],
            "metadata": {}
        },
        {
            "cell_type": "code",
            "execution_count": 21,
            "source": [
                "listOne = [1,2,3,4,5]\r\n",
                "listTwo = [6,7,8,9,10]\r\n",
                "\r\n",
                "cumulativeList = listOne + listTwo\r\n",
                "print(cumulativeList)\r\n"
            ],
            "outputs": [
                {
                    "output_type": "stream",
                    "name": "stdout",
                    "text": [
                        "[1, 2, 3, 4, 5, 6, 7, 8, 9, 10]\n"
                    ]
                }
            ],
            "metadata": {}
        },
        {
            "cell_type": "code",
            "execution_count": 22,
            "source": [
                "#Multiply: \r\n",
                "\r\n",
                "listThree = [1,3,5]\r\n",
                "print(listThree * 3)"
            ],
            "outputs": [
                {
                    "output_type": "stream",
                    "name": "stdout",
                    "text": [
                        "[1, 3, 5, 1, 3, 5, 1, 3, 5]\n"
                    ]
                }
            ],
            "metadata": {}
        },
        {
            "cell_type": "markdown",
            "source": [
                "### String Formatting: \r\n"
            ],
            "metadata": {}
        },
        {
            "cell_type": "code",
            "execution_count": 10,
            "source": [
                "#Using %s or %d for values to import variables as a string. \r\n",
                "\r\n",
                "\r\n",
                "name = \"Colin\"\r\n",
                "print(\"Hello, %s!\" % name)\r\n",
                "\r\n",
                "# This prints out \"Colin is 23 years old.\"\r\n",
                "age = 23\r\n",
                "print(\"%s is %d years old.\" % (name, age))\r\n",
                "\r\n",
                "\r\n",
                "#Lists can be printed too! \r\n",
                "\r\n",
                "fruits = [\"Apple\", \"Banana\", \"Orange\"]\r\n",
                "print(\"This is what I found: %s!\" % fruits)"
            ],
            "outputs": [
                {
                    "output_type": "stream",
                    "name": "stdout",
                    "text": [
                        "Hello, Colin!\n",
                        "Colin is 23 years old.\n",
                        "This is what I found: ['Apple', 'Banana', 'Orange']!\n"
                    ]
                }
            ],
            "metadata": {}
        },
        {
            "cell_type": "code",
            "execution_count": 2,
            "source": [
                "#Strings can have length( len(item))\r\n",
                "\r\n",
                "\r\n",
                "string = \"Hello World\"\r\n",
                "print(len(string))\r\n",
                "\r\n",
                "b"
            ],
            "outputs": [
                {
                    "output_type": "stream",
                    "name": "stdout",
                    "text": [
                        "11\n"
                    ]
                }
            ],
            "metadata": {}
        },
        {
            "cell_type": "code",
            "execution_count": 9,
            "source": [
                "#What about indexing items? \r\n",
                "\r\n",
                "print(string.index('o'))\r\n",
                "\r\n",
                "# Counting number of items? \r\n",
                "print(string.count(\"o\"))\r\n",
                "\r\n",
                "#printing sections of the string can be done by setting a start and end point(Slice) for the characters: \r\n",
                "print(string[3:8])\r\n",
                "\r\n",
                "#Reverse? Set the slice at  [::-1]\r\n",
                "print(string[::-1])\r\n",
                "\r\n",
                "#Upper? \r\n",
                "print(string.upper())\r\n",
                "\r\n",
                "#ALSO! Variables can be passed through the notebook\r\n"
            ],
            "outputs": [
                {
                    "output_type": "stream",
                    "name": "stdout",
                    "text": [
                        "4\n",
                        "2\n",
                        "lo Wo\n",
                        "dlroW olleH\n",
                        "HELLO WORLD\n"
                    ]
                }
            ],
            "metadata": {}
        },
        {
            "cell_type": "code",
            "execution_count": 11,
            "source": [
                "#String Validation: \r\n",
                "\r\n",
                "if string == \"Hello World\" and name == \"Colin\":\r\n",
                "    print(\"It works! Hello World and Colin are correct\")"
            ],
            "outputs": [
                {
                    "output_type": "stream",
                    "name": "stdout",
                    "text": [
                        "It works! Hello World and Colin are correct\n"
                    ]
                }
            ],
            "metadata": {}
        },
        {
            "cell_type": "markdown",
            "source": [
                "#### API CALLS! \r\n"
            ],
            "metadata": {}
        },
        {
            "cell_type": "code",
            "execution_count": 11,
            "source": [
                "import requests\r\n",
                "\r\n",
                "r = requests.get(\"https://swapi.dev/api/people/1\")\r\n",
                "\r\n",
                "r.status_code\r\n",
                "content = r.content\r\n",
                "print(content)"
            ],
            "outputs": [
                {
                    "output_type": "stream",
                    "name": "stdout",
                    "text": [
                        "b'{\"name\":\"Luke Skywalker\",\"height\":\"172\",\"mass\":\"77\",\"hair_color\":\"blond\",\"skin_color\":\"fair\",\"eye_color\":\"blue\",\"birth_year\":\"19BBY\",\"gender\":\"male\",\"homeworld\":\"https://swapi.dev/api/planets/1/\",\"films\":[\"https://swapi.dev/api/films/1/\",\"https://swapi.dev/api/films/2/\",\"https://swapi.dev/api/films/3/\",\"https://swapi.dev/api/films/6/\"],\"species\":[],\"vehicles\":[\"https://swapi.dev/api/vehicles/14/\",\"https://swapi.dev/api/vehicles/30/\"],\"starships\":[\"https://swapi.dev/api/starships/12/\",\"https://swapi.dev/api/starships/22/\"],\"created\":\"2014-12-09T13:50:51.644000Z\",\"edited\":\"2014-12-20T21:17:56.891000Z\",\"url\":\"https://swapi.dev/api/people/1/\"}'\n"
                    ]
                }
            ],
            "metadata": {}
        },
        {
            "cell_type": "code",
            "execution_count": 10,
            "source": [
                "import pandas as pd\r\n",
                "import requests\r\n",
                "\r\n",
                "usgsValueAPI = \"https://waterservices.usgs.gov/nwis/iv/?format=rdb&sites=03179000&period=p2d&parameterCd=00060&siteStatus=all\"\r\n",
                "values = requests.get(usgsValueAPI)\r\n",
                "print(values.content)\r\n",
                "\r\n",
                "\r\n",
                "\r\n",
                " \r\n"
            ],
            "outputs": [
                {
                    "output_type": "stream",
                    "name": "stdout",
                    "text": [
                        "b\"# ---------------------------------- WARNING ----------------------------------------\\n# Some of the data that you have obtained from this U.S. Geological Survey database may not \\n# have received Director's approval.  Any such data values are qualified as provisional and \\n# are subject to revision.  Provisional data are released on the condition that neither the \\n# USGS nor the United States Government may be held liable for any damages resulting from its use.\\n#  Go to http://help.waterdata.usgs.gov/policies/provisional-data-statement for more information.\\n#\\n# File-format description:  http://help.waterdata.usgs.gov/faq/about-tab-delimited-output\\n# Automated-retrieval info: http://help.waterdata.usgs.gov/faq/automated-retrievals\\n#\\n# Contact:   gs-w_support_nwisweb@usgs.gov\\n# retrieved: 2021-09-01 01:39:32 -04:00\\t(natwebcaas01)\\n#\\n# Data for the following 1 site(s) are contained in this file\\n#    USGS 03179000 BLUESTONE RIVER NEAR PIPESTEM, WV\\n# -----------------------------------------------------------------------------------\\n#\\n# TS_ID - An internal number representing a time series.\\n#\\n# Data provided for site 03179000\\n#    TS_ID       Parameter Description\\n#    160668      00060     Discharge, cubic feet per second\\n#\\n# Data-value qualification codes included in this output:\\n#     P  Provisional data subject to revision.\\n#\\nagency_cd\\tsite_no\\tdatetime\\ttz_cd\\t160668_00060\\t160668_00060_cd\\n5s\\t15s\\t20d\\t6s\\t14n\\t10s\\nUSGS\\t03179000\\t2021-08-25 01:45\\tEDT\\t76.5\\tP\\nUSGS\\t03179000\\t2021-08-25 02:00\\tEDT\\t76.5\\tP\\nUSGS\\t03179000\\t2021-08-25 02:15\\tEDT\\t76.5\\tP\\nUSGS\\t03179000\\t2021-08-25 02:30\\tEDT\\t76.5\\tP\\nUSGS\\t03179000\\t2021-08-25 02:45\\tEDT\\t76.5\\tP\\nUSGS\\t03179000\\t2021-08-25 03:00\\tEDT\\t75.3\\tP\\nUSGS\\t03179000\\t2021-08-25 03:15\\tEDT\\t75.3\\tP\\nUSGS\\t03179000\\t2021-08-25 03:30\\tEDT\\t75.3\\tP\\nUSGS\\t03179000\\t2021-08-25 03:45\\tEDT\\t75.3\\tP\\nUSGS\\t03179000\\t2021-08-25 04:00\\tEDT\\t74.1\\tP\\nUSGS\\t03179000\\t2021-08-25 04:15\\tEDT\\t74.1\\tP\\nUSGS\\t03179000\\t2021-08-25 04:30\\tEDT\\t74.1\\tP\\nUSGS\\t03179000\\t2021-08-25 04:45\\tEDT\\t74.1\\tP\\nUSGS\\t03179000\\t2021-08-25 05:00\\tEDT\\t72.9\\tP\\nUSGS\\t03179000\\t2021-08-25 05:15\\tEDT\\t72.9\\tP\\nUSGS\\t03179000\\t2021-08-25 05:30\\tEDT\\t72.9\\tP\\nUSGS\\t03179000\\t2021-08-25 05:45\\tEDT\\t72.9\\tP\\nUSGS\\t03179000\\t2021-08-25 06:00\\tEDT\\t72.9\\tP\\nUSGS\\t03179000\\t2021-08-25 06:15\\tEDT\\t72.9\\tP\\nUSGS\\t03179000\\t2021-08-25 06:30\\tEDT\\t71.8\\tP\\nUSGS\\t03179000\\t2021-08-25 06:45\\tEDT\\t71.8\\tP\\nUSGS\\t03179000\\t2021-08-25 07:00\\tEDT\\t71.8\\tP\\nUSGS\\t03179000\\t2021-08-25 07:15\\tEDT\\t71.8\\tP\\nUSGS\\t03179000\\t2021-08-25 07:30\\tEDT\\t71.8\\tP\\nUSGS\\t03179000\\t2021-08-25 07:45\\tEDT\\t71.8\\tP\\nUSGS\\t03179000\\t2021-08-25 08:00\\tEDT\\t71.8\\tP\\nUSGS\\t03179000\\t2021-08-25 08:15\\tEDT\\t70.6\\tP\\nUSGS\\t03179000\\t2021-08-25 08:30\\tEDT\\t70.6\\tP\\nUSGS\\t03179000\\t2021-08-25 08:45\\tEDT\\t70.6\\tP\\nUSGS\\t03179000\\t2021-08-25 09:00\\tEDT\\t70.6\\tP\\nUSGS\\t03179000\\t2021-08-25 09:15\\tEDT\\t70.6\\tP\\nUSGS\\t03179000\\t2021-08-25 09:30\\tEDT\\t70.6\\tP\\nUSGS\\t03179000\\t2021-08-25 09:45\\tEDT\\t70.6\\tP\\nUSGS\\t03179000\\t2021-08-25 10:00\\tEDT\\t70.6\\tP\\nUSGS\\t03179000\\t2021-08-25 10:15\\tEDT\\t70.6\\tP\\nUSGS\\t03179000\\t2021-08-25 10:30\\tEDT\\t70.6\\tP\\nUSGS\\t03179000\\t2021-08-25 10:45\\tEDT\\t70.6\\tP\\nUSGS\\t03179000\\t2021-08-25 11:00\\tEDT\\t70.6\\tP\\nUSGS\\t03179000\\t2021-08-25 11:15\\tEDT\\t70.6\\tP\\nUSGS\\t03179000\\t2021-08-25 11:30\\tEDT\\t70.6\\tP\\nUSGS\\t03179000\\t2021-08-25 11:45\\tEDT\\t70.6\\tP\\nUSGS\\t03179000\\t2021-08-25 12:00\\tEDT\\t70.6\\tP\\nUSGS\\t03179000\\t2021-08-25 12:15\\tEDT\\t70.6\\tP\\nUSGS\\t03179000\\t2021-08-25 12:30\\tEDT\\t70.6\\tP\\nUSGS\\t03179000\\t2021-08-25 12:45\\tEDT\\t70.6\\tP\\nUSGS\\t03179000\\t2021-08-25 13:00\\tEDT\\t70.6\\tP\\nUSGS\\t03179000\\t2021-08-25 13:15\\tEDT\\t70.6\\tP\\nUSGS\\t03179000\\t2021-08-25 13:30\\tEDT\\t70.6\\tP\\nUSGS\\t03179000\\t2021-08-25 13:45\\tEDT\\t70.6\\tP\\nUSGS\\t03179000\\t2021-08-25 14:00\\tEDT\\t70.6\\tP\\nUSGS\\t03179000\\t2021-08-25 14:15\\tEDT\\t70.6\\tP\\nUSGS\\t03179000\\t2021-08-25 14:30\\tEDT\\t71.8\\tP\\nUSGS\\t03179000\\t2021-08-25 14:45\\tEDT\\t71.8\\tP\\nUSGS\\t03179000\\t2021-08-25 15:00\\tEDT\\t71.8\\tP\\nUSGS\\t03179000\\t2021-08-25 15:15\\tEDT\\t71.8\\tP\\nUSGS\\t03179000\\t2021-08-25 15:30\\tEDT\\t75.3\\tP\\nUSGS\\t03179000\\t2021-08-25 15:45\\tEDT\\t80.2\\tP\\nUSGS\\t03179000\\t2021-08-25 16:00\\tEDT\\t81.5\\tP\\nUSGS\\t03179000\\t2021-08-25 16:15\\tEDT\\t81.5\\tP\\nUSGS\\t03179000\\t2021-08-25 16:30\\tEDT\\t79.0\\tP\\nUSGS\\t03179000\\t2021-08-25 16:45\\tEDT\\t76.5\\tP\\nUSGS\\t03179000\\t2021-08-25 17:00\\tEDT\\t75.3\\tP\\nUSGS\\t03179000\\t2021-08-25 17:15\\tEDT\\t75.3\\tP\\nUSGS\\t03179000\\t2021-08-25 17:30\\tEDT\\t74.1\\tP\\nUSGS\\t03179000\\t2021-08-25 17:45\\tEDT\\t74.1\\tP\\nUSGS\\t03179000\\t2021-08-25 18:00\\tEDT\\t74.1\\tP\\nUSGS\\t03179000\\t2021-08-25 18:15\\tEDT\\t74.1\\tP\\nUSGS\\t03179000\\t2021-08-25 18:30\\tEDT\\t75.3\\tP\\nUSGS\\t03179000\\t2021-08-25 18:45\\tEDT\\t75.3\\tP\\nUSGS\\t03179000\\t2021-08-25 19:00\\tEDT\\t75.3\\tP\\nUSGS\\t03179000\\t2021-08-25 19:15\\tEDT\\t76.5\\tP\\nUSGS\\t03179000\\t2021-08-25 19:30\\tEDT\\t77.7\\tP\\nUSGS\\t03179000\\t2021-08-25 19:45\\tEDT\\t80.2\\tP\\nUSGS\\t03179000\\t2021-08-25 20:00\\tEDT\\t80.2\\tP\\nUSGS\\t03179000\\t2021-08-25 20:15\\tEDT\\t81.5\\tP\\nUSGS\\t03179000\\t2021-08-25 20:30\\tEDT\\t81.5\\tP\\nUSGS\\t03179000\\t2021-08-25 20:45\\tEDT\\t80.2\\tP\\nUSGS\\t03179000\\t2021-08-25 21:00\\tEDT\\t80.2\\tP\\nUSGS\\t03179000\\t2021-08-25 21:15\\tEDT\\t79.0\\tP\\nUSGS\\t03179000\\t2021-08-25 21:30\\tEDT\\t77.7\\tP\\nUSGS\\t03179000\\t2021-08-25 21:45\\tEDT\\t77.7\\tP\\nUSGS\\t03179000\\t2021-08-25 22:00\\tEDT\\t76.5\\tP\\nUSGS\\t03179000\\t2021-08-25 22:15\\tEDT\\t76.5\\tP\\nUSGS\\t03179000\\t2021-08-25 22:30\\tEDT\\t76.5\\tP\\nUSGS\\t03179000\\t2021-08-25 22:45\\tEDT\\t76.5\\tP\\nUSGS\\t03179000\\t2021-08-25 23:00\\tEDT\\t76.5\\tP\\nUSGS\\t03179000\\t2021-08-25 23:15\\tEDT\\t75.3\\tP\\nUSGS\\t03179000\\t2021-08-25 23:30\\tEDT\\t75.3\\tP\\nUSGS\\t03179000\\t2021-08-25 23:45\\tEDT\\t75.3\\tP\\nUSGS\\t03179000\\t2021-08-26 00:00\\tEDT\\t75.3\\tP\\nUSGS\\t03179000\\t2021-08-26 00:15\\tEDT\\t75.3\\tP\\nUSGS\\t03179000\\t2021-08-26 00:30\\tEDT\\t75.3\\tP\\nUSGS\\t03179000\\t2021-08-26 00:45\\tEDT\\t75.3\\tP\\nUSGS\\t03179000\\t2021-08-26 01:00\\tEDT\\t75.3\\tP\\nUSGS\\t03179000\\t2021-08-26 01:15\\tEDT\\t75.3\\tP\\nUSGS\\t03179000\\t2021-08-26 01:30\\tEDT\\t76.5\\tP\\nUSGS\\t03179000\\t2021-08-26 01:45\\tEDT\\t76.5\\tP\\nUSGS\\t03179000\\t2021-08-26 02:00\\tEDT\\t77.7\\tP\\nUSGS\\t03179000\\t2021-08-26 02:15\\tEDT\\t77.7\\tP\\nUSGS\\t03179000\\t2021-08-26 02:30\\tEDT\\t79.0\\tP\\nUSGS\\t03179000\\t2021-08-26 02:45\\tEDT\\t79.0\\tP\\nUSGS\\t03179000\\t2021-08-26 03:00\\tEDT\\t79.0\\tP\\nUSGS\\t03179000\\t2021-08-26 03:15\\tEDT\\t79.0\\tP\\nUSGS\\t03179000\\t2021-08-26 03:30\\tEDT\\t77.7\\tP\\nUSGS\\t03179000\\t2021-08-26 03:45\\tEDT\\t77.7\\tP\\nUSGS\\t03179000\\t2021-08-26 04:00\\tEDT\\t79.0\\tP\\nUSGS\\t03179000\\t2021-08-26 04:15\\tEDT\\t80.2\\tP\\nUSGS\\t03179000\\t2021-08-26 04:30\\tEDT\\t81.5\\tP\\nUSGS\\t03179000\\t2021-08-26 04:45\\tEDT\\t85.3\\tP\\nUSGS\\t03179000\\t2021-08-26 05:00\\tEDT\\t87.9\\tP\\nUSGS\\t03179000\\t2021-08-26 05:15\\tEDT\\t91.9\\tP\\nUSGS\\t03179000\\t2021-08-26 05:30\\tEDT\\t96.0\\tP\\nUSGS\\t03179000\\t2021-08-26 05:45\\tEDT\\t97.3\\tP\\nUSGS\\t03179000\\t2021-08-26 06:00\\tEDT\\t98.7\\tP\\nUSGS\\t03179000\\t2021-08-26 06:15\\tEDT\\t98.7\\tP\\nUSGS\\t03179000\\t2021-08-26 06:30\\tEDT\\t98.7\\tP\\nUSGS\\t03179000\\t2021-08-26 06:45\\tEDT\\t98.7\\tP\\nUSGS\\t03179000\\t2021-08-26 07:00\\tEDT\\t97.3\\tP\\nUSGS\\t03179000\\t2021-08-26 07:15\\tEDT\\t97.3\\tP\\nUSGS\\t03179000\\t2021-08-26 07:30\\tEDT\\t98.7\\tP\\nUSGS\\t03179000\\t2021-08-26 07:45\\tEDT\\t102\\tP\\nUSGS\\t03179000\\t2021-08-26 08:00\\tEDT\\t104\\tP\\nUSGS\\t03179000\\t2021-08-26 08:15\\tEDT\\t110\\tP\\nUSGS\\t03179000\\t2021-08-26 08:30\\tEDT\\t115\\tP\\nUSGS\\t03179000\\t2021-08-26 08:45\\tEDT\\t116\\tP\\nUSGS\\t03179000\\t2021-08-26 09:00\\tEDT\\t120\\tP\\nUSGS\\t03179000\\t2021-08-26 09:15\\tEDT\\t123\\tP\\nUSGS\\t03179000\\t2021-08-26 09:30\\tEDT\\t126\\tP\\nUSGS\\t03179000\\t2021-08-26 09:45\\tEDT\\t132\\tP\\nUSGS\\t03179000\\t2021-08-26 10:00\\tEDT\\t146\\tP\\nUSGS\\t03179000\\t2021-08-26 10:15\\tEDT\\t161\\tP\\nUSGS\\t03179000\\t2021-08-26 10:30\\tEDT\\t172\\tP\\nUSGS\\t03179000\\t2021-08-26 10:45\\tEDT\\t178\\tP\\nUSGS\\t03179000\\t2021-08-26 11:00\\tEDT\\t180\\tP\\nUSGS\\t03179000\\t2021-08-26 11:15\\tEDT\\t178\\tP\\nUSGS\\t03179000\\t2021-08-26 11:30\\tEDT\\t178\\tP\\nUSGS\\t03179000\\t2021-08-26 11:45\\tEDT\\t176\\tP\\nUSGS\\t03179000\\t2021-08-26 12:00\\tEDT\\t172\\tP\\nUSGS\\t03179000\\t2021-08-26 12:15\\tEDT\\t170\\tP\\nUSGS\\t03179000\\t2021-08-26 12:30\\tEDT\\t168\\tP\\nUSGS\\t03179000\\t2021-08-26 12:45\\tEDT\\t166\\tP\\nUSGS\\t03179000\\t2021-08-26 13:00\\tEDT\\t164\\tP\\nUSGS\\t03179000\\t2021-08-26 13:15\\tEDT\\t163\\tP\\nUSGS\\t03179000\\t2021-08-26 13:30\\tEDT\\t161\\tP\\nUSGS\\t03179000\\t2021-08-26 13:45\\tEDT\\t159\\tP\\nUSGS\\t03179000\\t2021-08-26 14:00\\tEDT\\t155\\tP\\nUSGS\\t03179000\\t2021-08-26 14:15\\tEDT\\t153\\tP\\nUSGS\\t03179000\\t2021-08-26 14:30\\tEDT\\t153\\tP\\nUSGS\\t03179000\\t2021-08-26 14:45\\tEDT\\t150\\tP\\nUSGS\\t03179000\\t2021-08-26 15:00\\tEDT\\t148\\tP\\nUSGS\\t03179000\\t2021-08-26 15:15\\tEDT\\t146\\tP\\nUSGS\\t03179000\\t2021-08-26 15:30\\tEDT\\t146\\tP\\nUSGS\\t03179000\\t2021-08-26 15:45\\tEDT\\t143\\tP\\nUSGS\\t03179000\\t2021-08-26 16:00\\tEDT\\t141\\tP\\nUSGS\\t03179000\\t2021-08-26 16:15\\tEDT\\t141\\tP\\nUSGS\\t03179000\\t2021-08-26 16:30\\tEDT\\t139\\tP\\nUSGS\\t03179000\\t2021-08-26 16:45\\tEDT\\t138\\tP\\nUSGS\\t03179000\\t2021-08-26 17:00\\tEDT\\t136\\tP\\nUSGS\\t03179000\\t2021-08-26 17:15\\tEDT\\t134\\tP\\nUSGS\\t03179000\\t2021-08-26 17:30\\tEDT\\t134\\tP\\nUSGS\\t03179000\\t2021-08-26 17:45\\tEDT\\t132\\tP\\nUSGS\\t03179000\\t2021-08-26 18:00\\tEDT\\t132\\tP\\nUSGS\\t03179000\\t2021-08-26 18:15\\tEDT\\t131\\tP\\nUSGS\\t03179000\\t2021-08-26 18:30\\tEDT\\t129\\tP\\nUSGS\\t03179000\\t2021-08-26 18:45\\tEDT\\t129\\tP\\nUSGS\\t03179000\\t2021-08-26 19:00\\tEDT\\t128\\tP\\nUSGS\\t03179000\\t2021-08-26 19:15\\tEDT\\t128\\tP\\nUSGS\\t03179000\\t2021-08-26 19:30\\tEDT\\t126\\tP\\nUSGS\\t03179000\\t2021-08-26 19:45\\tEDT\\t126\\tP\\nUSGS\\t03179000\\t2021-08-26 20:00\\tEDT\\t124\\tP\\nUSGS\\t03179000\\t2021-08-26 20:15\\tEDT\\t124\\tP\\nUSGS\\t03179000\\t2021-08-26 20:30\\tEDT\\t123\\tP\\nUSGS\\t03179000\\t2021-08-26 20:45\\tEDT\\t123\\tP\\nUSGS\\t03179000\\t2021-08-26 21:00\\tEDT\\t123\\tP\\nUSGS\\t03179000\\t2021-08-26 21:15\\tEDT\\t123\\tP\\nUSGS\\t03179000\\t2021-08-26 21:30\\tEDT\\t123\\tP\\nUSGS\\t03179000\\t2021-08-26 21:45\\tEDT\\t124\\tP\\nUSGS\\t03179000\\t2021-08-26 22:00\\tEDT\\t126\\tP\\nUSGS\\t03179000\\t2021-08-26 22:15\\tEDT\\t126\\tP\\nUSGS\\t03179000\\t2021-08-26 22:30\\tEDT\\t128\\tP\\nUSGS\\t03179000\\t2021-08-26 22:45\\tEDT\\t129\\tP\\nUSGS\\t03179000\\t2021-08-26 23:00\\tEDT\\t131\\tP\\nUSGS\\t03179000\\t2021-08-26 23:15\\tEDT\\t132\\tP\\nUSGS\\t03179000\\t2021-08-26 23:30\\tEDT\\t134\\tP\\nUSGS\\t03179000\\t2021-08-26 23:45\\tEDT\\t136\\tP\\nUSGS\\t03179000\\t2021-08-27 00:00\\tEDT\\t138\\tP\\nUSGS\\t03179000\\t2021-08-27 00:15\\tEDT\\t139\\tP\\nUSGS\\t03179000\\t2021-08-27 00:30\\tEDT\\t139\\tP\\nUSGS\\t03179000\\t2021-08-27 00:45\\tEDT\\t139\\tP\\nUSGS\\t03179000\\t2021-08-27 01:00\\tEDT\\t141\\tP\\nUSGS\\t03179000\\t2021-08-27 01:15\\tEDT\\t139\\tP\\nUSGS\\t03179000\\t2021-08-27 01:30\\tEDT\\t139\\tP\\nUSGS\\t03179000\\t2021-08-27 01:45\\tEDT\\t139\\tP\\nUSGS\\t03179000\\t2021-08-27 02:00\\tEDT\\t138\\tP\\nUSGS\\t03179000\\t2021-08-27 02:15\\tEDT\\t136\\tP\\nUSGS\\t03179000\\t2021-08-27 02:30\\tEDT\\t136\\tP\\nUSGS\\t03179000\\t2021-08-27 02:45\\tEDT\\t134\\tP\\nUSGS\\t03179000\\t2021-08-27 03:00\\tEDT\\t134\\tP\\nUSGS\\t03179000\\t2021-08-27 03:15\\tEDT\\t132\\tP\\nUSGS\\t03179000\\t2021-08-27 03:30\\tEDT\\t132\\tP\\nUSGS\\t03179000\\t2021-08-27 03:45\\tEDT\\t131\\tP\\nUSGS\\t03179000\\t2021-08-27 04:00\\tEDT\\t129\\tP\\nUSGS\\t03179000\\t2021-08-27 04:15\\tEDT\\t129\\tP\\nUSGS\\t03179000\\t2021-08-27 04:30\\tEDT\\t128\\tP\\nUSGS\\t03179000\\t2021-08-27 04:45\\tEDT\\t128\\tP\\nUSGS\\t03179000\\t2021-08-27 05:00\\tEDT\\t128\\tP\\nUSGS\\t03179000\\t2021-08-27 05:15\\tEDT\\t126\\tP\\nUSGS\\t03179000\\t2021-08-27 05:30\\tEDT\\t126\\tP\\nUSGS\\t03179000\\t2021-08-27 05:45\\tEDT\\t126\\tP\\nUSGS\\t03179000\\t2021-08-27 06:00\\tEDT\\t132\\tP\\nUSGS\\t03179000\\t2021-08-27 06:15\\tEDT\\t152\\tP\\nUSGS\\t03179000\\t2021-08-27 06:30\\tEDT\\t178\\tP\\nUSGS\\t03179000\\t2021-08-27 06:45\\tEDT\\t198\\tP\\nUSGS\\t03179000\\t2021-08-27 07:00\\tEDT\\t205\\tP\\nUSGS\\t03179000\\t2021-08-27 07:15\\tEDT\\t203\\tP\\nUSGS\\t03179000\\t2021-08-27 07:30\\tEDT\\t200\\tP\\nUSGS\\t03179000\\t2021-08-27 07:45\\tEDT\\t198\\tP\\nUSGS\\t03179000\\t2021-08-27 08:00\\tEDT\\t196\\tP\\nUSGS\\t03179000\\t2021-08-27 08:15\\tEDT\\t194\\tP\\nUSGS\\t03179000\\t2021-08-27 08:30\\tEDT\\t190\\tP\\nUSGS\\t03179000\\t2021-08-27 08:45\\tEDT\\t188\\tP\\nUSGS\\t03179000\\t2021-08-27 09:00\\tEDT\\t186\\tP\\nUSGS\\t03179000\\t2021-08-27 09:15\\tEDT\\t184\\tP\\nUSGS\\t03179000\\t2021-08-27 09:30\\tEDT\\t182\\tP\\nUSGS\\t03179000\\t2021-08-27 09:45\\tEDT\\t180\\tP\\nUSGS\\t03179000\\t2021-08-27 10:00\\tEDT\\t178\\tP\\nUSGS\\t03179000\\t2021-08-27 10:15\\tEDT\\t176\\tP\\nUSGS\\t03179000\\t2021-08-27 10:30\\tEDT\\t174\\tP\\nUSGS\\t03179000\\t2021-08-27 10:45\\tEDT\\t172\\tP\\nUSGS\\t03179000\\t2021-08-27 11:00\\tEDT\\t170\\tP\\nUSGS\\t03179000\\t2021-08-27 11:15\\tEDT\\t168\\tP\\nUSGS\\t03179000\\t2021-08-27 11:30\\tEDT\\t166\\tP\\nUSGS\\t03179000\\t2021-08-27 11:45\\tEDT\\t164\\tP\\nUSGS\\t03179000\\t2021-08-27 12:00\\tEDT\\t163\\tP\\nUSGS\\t03179000\\t2021-08-27 12:15\\tEDT\\t161\\tP\\nUSGS\\t03179000\\t2021-08-27 12:30\\tEDT\\t161\\tP\\nUSGS\\t03179000\\t2021-08-27 12:45\\tEDT\\t159\\tP\\nUSGS\\t03179000\\t2021-08-27 13:00\\tEDT\\t157\\tP\\nUSGS\\t03179000\\t2021-08-27 13:15\\tEDT\\t155\\tP\\nUSGS\\t03179000\\t2021-08-27 13:30\\tEDT\\t153\\tP\\nUSGS\\t03179000\\t2021-08-27 13:45\\tEDT\\t152\\tP\\nUSGS\\t03179000\\t2021-08-27 14:00\\tEDT\\t150\\tP\\nUSGS\\t03179000\\t2021-08-27 14:15\\tEDT\\t150\\tP\\nUSGS\\t03179000\\t2021-08-27 14:30\\tEDT\\t148\\tP\\nUSGS\\t03179000\\t2021-08-27 14:45\\tEDT\\t146\\tP\\nUSGS\\t03179000\\t2021-08-27 15:00\\tEDT\\t144\\tP\\nUSGS\\t03179000\\t2021-08-27 15:15\\tEDT\\t143\\tP\\nUSGS\\t03179000\\t2021-08-27 15:30\\tEDT\\t143\\tP\\nUSGS\\t03179000\\t2021-08-27 15:45\\tEDT\\t141\\tP\\nUSGS\\t03179000\\t2021-08-27 16:00\\tEDT\\t139\\tP\\nUSGS\\t03179000\\t2021-08-27 16:15\\tEDT\\t139\\tP\\nUSGS\\t03179000\\t2021-08-27 16:30\\tEDT\\t138\\tP\\nUSGS\\t03179000\\t2021-08-27 16:45\\tEDT\\t138\\tP\\nUSGS\\t03179000\\t2021-08-27 17:00\\tEDT\\t136\\tP\\nUSGS\\t03179000\\t2021-08-27 17:15\\tEDT\\t136\\tP\\nUSGS\\t03179000\\t2021-08-27 17:30\\tEDT\\t136\\tP\\nUSGS\\t03179000\\t2021-08-27 17:45\\tEDT\\t134\\tP\\nUSGS\\t03179000\\t2021-08-27 18:00\\tEDT\\t134\\tP\\nUSGS\\t03179000\\t2021-08-27 18:15\\tEDT\\t134\\tP\\nUSGS\\t03179000\\t2021-08-27 18:30\\tEDT\\t134\\tP\\nUSGS\\t03179000\\t2021-08-27 18:45\\tEDT\\t132\\tP\\nUSGS\\t03179000\\t2021-08-27 19:00\\tEDT\\t132\\tP\\nUSGS\\t03179000\\t2021-08-27 19:15\\tEDT\\t132\\tP\\nUSGS\\t03179000\\t2021-08-27 19:30\\tEDT\\t131\\tP\\nUSGS\\t03179000\\t2021-08-27 19:45\\tEDT\\t131\\tP\\nUSGS\\t03179000\\t2021-08-27 20:00\\tEDT\\t129\\tP\\nUSGS\\t03179000\\t2021-08-27 20:15\\tEDT\\t128\\tP\\nUSGS\\t03179000\\t2021-08-27 20:30\\tEDT\\t126\\tP\\nUSGS\\t03179000\\t2021-08-27 20:45\\tEDT\\t124\\tP\\nUSGS\\t03179000\\t2021-08-27 21:00\\tEDT\\t123\\tP\\nUSGS\\t03179000\\t2021-08-27 21:15\\tEDT\\t123\\tP\\nUSGS\\t03179000\\t2021-08-27 21:30\\tEDT\\t121\\tP\\nUSGS\\t03179000\\t2021-08-27 21:45\\tEDT\\t121\\tP\\nUSGS\\t03179000\\t2021-08-27 22:00\\tEDT\\t120\\tP\\nUSGS\\t03179000\\t2021-08-27 22:15\\tEDT\\t120\\tP\\nUSGS\\t03179000\\t2021-08-27 22:30\\tEDT\\t118\\tP\\nUSGS\\t03179000\\t2021-08-27 22:45\\tEDT\\t116\\tP\\nUSGS\\t03179000\\t2021-08-27 23:00\\tEDT\\t116\\tP\\nUSGS\\t03179000\\t2021-08-27 23:15\\tEDT\\t115\\tP\\nUSGS\\t03179000\\t2021-08-27 23:30\\tEDT\\t115\\tP\\nUSGS\\t03179000\\t2021-08-27 23:45\\tEDT\\t115\\tP\\nUSGS\\t03179000\\t2021-08-28 00:00\\tEDT\\t113\\tP\\nUSGS\\t03179000\\t2021-08-28 00:15\\tEDT\\t113\\tP\\nUSGS\\t03179000\\t2021-08-28 00:30\\tEDT\\t113\\tP\\nUSGS\\t03179000\\t2021-08-28 00:45\\tEDT\\t113\\tP\\nUSGS\\t03179000\\t2021-08-28 01:00\\tEDT\\t112\\tP\\nUSGS\\t03179000\\t2021-08-28 01:15\\tEDT\\t112\\tP\\nUSGS\\t03179000\\t2021-08-28 01:30\\tEDT\\t112\\tP\\nUSGS\\t03179000\\t2021-08-28 01:45\\tEDT\\t110\\tP\\nUSGS\\t03179000\\t2021-08-28 02:00\\tEDT\\t110\\tP\\nUSGS\\t03179000\\t2021-08-28 02:15\\tEDT\\t110\\tP\\nUSGS\\t03179000\\t2021-08-28 02:30\\tEDT\\t110\\tP\\nUSGS\\t03179000\\t2021-08-28 02:45\\tEDT\\t109\\tP\\nUSGS\\t03179000\\t2021-08-28 03:00\\tEDT\\t109\\tP\\nUSGS\\t03179000\\t2021-08-28 03:15\\tEDT\\t109\\tP\\nUSGS\\t03179000\\t2021-08-28 03:30\\tEDT\\t109\\tP\\nUSGS\\t03179000\\t2021-08-28 03:45\\tEDT\\t109\\tP\\nUSGS\\t03179000\\t2021-08-28 04:00\\tEDT\\t109\\tP\\nUSGS\\t03179000\\t2021-08-28 04:15\\tEDT\\t107\\tP\\nUSGS\\t03179000\\t2021-08-28 04:30\\tEDT\\t107\\tP\\nUSGS\\t03179000\\t2021-08-28 04:45\\tEDT\\t107\\tP\\nUSGS\\t03179000\\t2021-08-28 05:00\\tEDT\\t107\\tP\\nUSGS\\t03179000\\t2021-08-28 05:15\\tEDT\\t107\\tP\\nUSGS\\t03179000\\t2021-08-28 05:30\\tEDT\\t107\\tP\\nUSGS\\t03179000\\t2021-08-28 05:45\\tEDT\\t107\\tP\\nUSGS\\t03179000\\t2021-08-28 06:00\\tEDT\\t109\\tP\\nUSGS\\t03179000\\t2021-08-28 06:15\\tEDT\\t112\\tP\\nUSGS\\t03179000\\t2021-08-28 06:30\\tEDT\\t118\\tP\\nUSGS\\t03179000\\t2021-08-28 06:45\\tEDT\\t128\\tP\\nUSGS\\t03179000\\t2021-08-28 07:00\\tEDT\\t139\\tP\\nUSGS\\t03179000\\t2021-08-28 07:15\\tEDT\\t148\\tP\\nUSGS\\t03179000\\t2021-08-28 07:30\\tEDT\\t153\\tP\\nUSGS\\t03179000\\t2021-08-28 07:45\\tEDT\\t155\\tP\\nUSGS\\t03179000\\t2021-08-28 08:00\\tEDT\\t155\\tP\\nUSGS\\t03179000\\t2021-08-28 08:15\\tEDT\\t157\\tP\\nUSGS\\t03179000\\t2021-08-28 08:30\\tEDT\\t157\\tP\\nUSGS\\t03179000\\t2021-08-28 08:45\\tEDT\\t157\\tP\\nUSGS\\t03179000\\t2021-08-28 09:00\\tEDT\\t157\\tP\\nUSGS\\t03179000\\t2021-08-28 09:15\\tEDT\\t157\\tP\\nUSGS\\t03179000\\t2021-08-28 09:30\\tEDT\\t157\\tP\\nUSGS\\t03179000\\t2021-08-28 09:45\\tEDT\\t155\\tP\\nUSGS\\t03179000\\t2021-08-28 10:00\\tEDT\\t155\\tP\\nUSGS\\t03179000\\t2021-08-28 10:15\\tEDT\\t155\\tP\\nUSGS\\t03179000\\t2021-08-28 10:30\\tEDT\\t155\\tP\\nUSGS\\t03179000\\t2021-08-28 10:45\\tEDT\\t153\\tP\\nUSGS\\t03179000\\t2021-08-28 11:00\\tEDT\\t153\\tP\\nUSGS\\t03179000\\t2021-08-28 11:15\\tEDT\\t153\\tP\\nUSGS\\t03179000\\t2021-08-28 11:30\\tEDT\\t153\\tP\\nUSGS\\t03179000\\t2021-08-28 11:45\\tEDT\\t152\\tP\\nUSGS\\t03179000\\t2021-08-28 12:00\\tEDT\\t150\\tP\\nUSGS\\t03179000\\t2021-08-28 12:15\\tEDT\\t150\\tP\\nUSGS\\t03179000\\t2021-08-28 12:30\\tEDT\\t150\\tP\\nUSGS\\t03179000\\t2021-08-28 12:45\\tEDT\\t148\\tP\\nUSGS\\t03179000\\t2021-08-28 13:00\\tEDT\\t148\\tP\\nUSGS\\t03179000\\t2021-08-28 13:15\\tEDT\\t148\\tP\\nUSGS\\t03179000\\t2021-08-28 13:30\\tEDT\\t146\\tP\\nUSGS\\t03179000\\t2021-08-28 13:45\\tEDT\\t146\\tP\\nUSGS\\t03179000\\t2021-08-28 14:00\\tEDT\\t146\\tP\\nUSGS\\t03179000\\t2021-08-28 14:15\\tEDT\\t146\\tP\\nUSGS\\t03179000\\t2021-08-28 14:30\\tEDT\\t144\\tP\\nUSGS\\t03179000\\t2021-08-28 14:45\\tEDT\\t144\\tP\\nUSGS\\t03179000\\t2021-08-28 15:00\\tEDT\\t144\\tP\\nUSGS\\t03179000\\t2021-08-28 15:15\\tEDT\\t144\\tP\\nUSGS\\t03179000\\t2021-08-28 15:30\\tEDT\\t143\\tP\\nUSGS\\t03179000\\t2021-08-28 15:45\\tEDT\\t143\\tP\\nUSGS\\t03179000\\t2021-08-28 16:00\\tEDT\\t143\\tP\\nUSGS\\t03179000\\t2021-08-28 16:15\\tEDT\\t141\\tP\\nUSGS\\t03179000\\t2021-08-28 16:30\\tEDT\\t141\\tP\\nUSGS\\t03179000\\t2021-08-28 16:45\\tEDT\\t141\\tP\\nUSGS\\t03179000\\t2021-08-28 17:00\\tEDT\\t141\\tP\\nUSGS\\t03179000\\t2021-08-28 17:15\\tEDT\\t139\\tP\\nUSGS\\t03179000\\t2021-08-28 17:30\\tEDT\\t139\\tP\\nUSGS\\t03179000\\t2021-08-28 17:45\\tEDT\\t138\\tP\\nUSGS\\t03179000\\t2021-08-28 18:00\\tEDT\\t138\\tP\\nUSGS\\t03179000\\t2021-08-28 18:15\\tEDT\\t136\\tP\\nUSGS\\t03179000\\t2021-08-28 18:30\\tEDT\\t136\\tP\\nUSGS\\t03179000\\t2021-08-28 18:45\\tEDT\\t136\\tP\\nUSGS\\t03179000\\t2021-08-28 19:00\\tEDT\\t134\\tP\\nUSGS\\t03179000\\t2021-08-28 19:15\\tEDT\\t134\\tP\\nUSGS\\t03179000\\t2021-08-28 19:30\\tEDT\\t132\\tP\\nUSGS\\t03179000\\t2021-08-28 19:45\\tEDT\\t132\\tP\\nUSGS\\t03179000\\t2021-08-28 20:00\\tEDT\\t131\\tP\\nUSGS\\t03179000\\t2021-08-28 20:15\\tEDT\\t129\\tP\\nUSGS\\t03179000\\t2021-08-28 20:30\\tEDT\\t129\\tP\\nUSGS\\t03179000\\t2021-08-28 20:45\\tEDT\\t128\\tP\\nUSGS\\t03179000\\t2021-08-28 21:00\\tEDT\\t128\\tP\\nUSGS\\t03179000\\t2021-08-28 21:15\\tEDT\\t126\\tP\\nUSGS\\t03179000\\t2021-08-28 21:30\\tEDT\\t126\\tP\\nUSGS\\t03179000\\t2021-08-28 21:45\\tEDT\\t124\\tP\\nUSGS\\t03179000\\t2021-08-28 22:00\\tEDT\\t124\\tP\\nUSGS\\t03179000\\t2021-08-28 22:15\\tEDT\\t123\\tP\\nUSGS\\t03179000\\t2021-08-28 22:30\\tEDT\\t123\\tP\\nUSGS\\t03179000\\t2021-08-28 22:45\\tEDT\\t121\\tP\\nUSGS\\t03179000\\t2021-08-28 23:00\\tEDT\\t121\\tP\\nUSGS\\t03179000\\t2021-08-28 23:15\\tEDT\\t120\\tP\\nUSGS\\t03179000\\t2021-08-28 23:30\\tEDT\\t120\\tP\\nUSGS\\t03179000\\t2021-08-28 23:45\\tEDT\\t118\\tP\\nUSGS\\t03179000\\t2021-08-29 00:00\\tEDT\\t118\\tP\\nUSGS\\t03179000\\t2021-08-29 00:15\\tEDT\\t116\\tP\\nUSGS\\t03179000\\t2021-08-29 00:30\\tEDT\\t116\\tP\\nUSGS\\t03179000\\t2021-08-29 00:45\\tEDT\\t115\\tP\\nUSGS\\t03179000\\t2021-08-29 01:00\\tEDT\\t115\\tP\\nUSGS\\t03179000\\t2021-08-29 01:15\\tEDT\\t113\\tP\\nUSGS\\t03179000\\t2021-08-29 01:30\\tEDT\\t113\\tP\\nUSGS\\t03179000\\t2021-08-29 01:45\\tEDT\\t113\\tP\\nUSGS\\t03179000\\t2021-08-29 02:00\\tEDT\\t112\\tP\\nUSGS\\t03179000\\t2021-08-29 02:15\\tEDT\\t112\\tP\\nUSGS\\t03179000\\t2021-08-29 02:30\\tEDT\\t110\\tP\\nUSGS\\t03179000\\t2021-08-29 02:45\\tEDT\\t110\\tP\\nUSGS\\t03179000\\t2021-08-29 03:00\\tEDT\\t110\\tP\\nUSGS\\t03179000\\t2021-08-29 03:15\\tEDT\\t109\\tP\\nUSGS\\t03179000\\t2021-08-29 03:30\\tEDT\\t109\\tP\\nUSGS\\t03179000\\t2021-08-29 03:45\\tEDT\\t109\\tP\\nUSGS\\t03179000\\t2021-08-29 04:00\\tEDT\\t107\\tP\\nUSGS\\t03179000\\t2021-08-29 04:15\\tEDT\\t107\\tP\\nUSGS\\t03179000\\t2021-08-29 04:30\\tEDT\\t107\\tP\\nUSGS\\t03179000\\t2021-08-29 04:45\\tEDT\\t106\\tP\\nUSGS\\t03179000\\t2021-08-29 05:00\\tEDT\\t106\\tP\\nUSGS\\t03179000\\t2021-08-29 05:15\\tEDT\\t106\\tP\\nUSGS\\t03179000\\t2021-08-29 05:30\\tEDT\\t106\\tP\\nUSGS\\t03179000\\t2021-08-29 05:45\\tEDT\\t104\\tP\\nUSGS\\t03179000\\t2021-08-29 06:00\\tEDT\\t104\\tP\\nUSGS\\t03179000\\t2021-08-29 06:15\\tEDT\\t104\\tP\\nUSGS\\t03179000\\t2021-08-29 06:30\\tEDT\\t103\\tP\\nUSGS\\t03179000\\t2021-08-29 06:45\\tEDT\\t103\\tP\\nUSGS\\t03179000\\t2021-08-29 07:00\\tEDT\\t103\\tP\\nUSGS\\t03179000\\t2021-08-29 07:15\\tEDT\\t103\\tP\\nUSGS\\t03179000\\t2021-08-29 07:30\\tEDT\\t102\\tP\\nUSGS\\t03179000\\t2021-08-29 07:45\\tEDT\\t102\\tP\\nUSGS\\t03179000\\t2021-08-29 08:00\\tEDT\\t102\\tP\\nUSGS\\t03179000\\t2021-08-29 08:15\\tEDT\\t102\\tP\\nUSGS\\t03179000\\t2021-08-29 08:30\\tEDT\\t102\\tP\\nUSGS\\t03179000\\t2021-08-29 08:45\\tEDT\\t100\\tP\\nUSGS\\t03179000\\t2021-08-29 09:00\\tEDT\\t100\\tP\\nUSGS\\t03179000\\t2021-08-29 09:15\\tEDT\\t100\\tP\\nUSGS\\t03179000\\t2021-08-29 09:30\\tEDT\\t100\\tP\\nUSGS\\t03179000\\t2021-08-29 09:45\\tEDT\\t100\\tP\\nUSGS\\t03179000\\t2021-08-29 10:00\\tEDT\\t100\\tP\\nUSGS\\t03179000\\t2021-08-29 10:15\\tEDT\\t100\\tP\\nUSGS\\t03179000\\t2021-08-29 10:30\\tEDT\\t100\\tP\\nUSGS\\t03179000\\t2021-08-29 10:45\\tEDT\\t100\\tP\\nUSGS\\t03179000\\t2021-08-29 11:00\\tEDT\\t98.7\\tP\\nUSGS\\t03179000\\t2021-08-29 11:15\\tEDT\\t98.7\\tP\\nUSGS\\t03179000\\t2021-08-29 11:30\\tEDT\\t98.7\\tP\\nUSGS\\t03179000\\t2021-08-29 11:45\\tEDT\\t98.7\\tP\\nUSGS\\t03179000\\t2021-08-29 12:00\\tEDT\\t98.7\\tP\\nUSGS\\t03179000\\t2021-08-29 12:15\\tEDT\\t98.7\\tP\\nUSGS\\t03179000\\t2021-08-29 12:30\\tEDT\\t98.7\\tP\\nUSGS\\t03179000\\t2021-08-29 12:45\\tEDT\\t98.7\\tP\\nUSGS\\t03179000\\t2021-08-29 13:00\\tEDT\\t98.7\\tP\\nUSGS\\t03179000\\t2021-08-29 13:15\\tEDT\\t98.7\\tP\\nUSGS\\t03179000\\t2021-08-29 13:30\\tEDT\\t98.7\\tP\\nUSGS\\t03179000\\t2021-08-29 13:45\\tEDT\\t98.7\\tP\\nUSGS\\t03179000\\t2021-08-29 14:00\\tEDT\\t97.3\\tP\\nUSGS\\t03179000\\t2021-08-29 14:15\\tEDT\\t97.3\\tP\\nUSGS\\t03179000\\t2021-08-29 14:30\\tEDT\\t97.3\\tP\\nUSGS\\t03179000\\t2021-08-29 14:45\\tEDT\\t97.3\\tP\\nUSGS\\t03179000\\t2021-08-29 15:00\\tEDT\\t97.3\\tP\\nUSGS\\t03179000\\t2021-08-29 15:15\\tEDT\\t97.3\\tP\\nUSGS\\t03179000\\t2021-08-29 15:30\\tEDT\\t97.3\\tP\\nUSGS\\t03179000\\t2021-08-29 15:45\\tEDT\\t97.3\\tP\\nUSGS\\t03179000\\t2021-08-29 16:00\\tEDT\\t97.3\\tP\\nUSGS\\t03179000\\t2021-08-29 16:15\\tEDT\\t97.3\\tP\\nUSGS\\t03179000\\t2021-08-29 16:30\\tEDT\\t96.0\\tP\\nUSGS\\t03179000\\t2021-08-29 16:45\\tEDT\\t96.0\\tP\\nUSGS\\t03179000\\t2021-08-29 17:00\\tEDT\\t96.0\\tP\\nUSGS\\t03179000\\t2021-08-29 17:15\\tEDT\\t96.0\\tP\\nUSGS\\t03179000\\t2021-08-29 17:30\\tEDT\\t96.0\\tP\\nUSGS\\t03179000\\t2021-08-29 17:45\\tEDT\\t96.0\\tP\\nUSGS\\t03179000\\t2021-08-29 18:00\\tEDT\\t96.0\\tP\\nUSGS\\t03179000\\t2021-08-29 18:15\\tEDT\\t96.0\\tP\\nUSGS\\t03179000\\t2021-08-29 18:30\\tEDT\\t96.0\\tP\\nUSGS\\t03179000\\t2021-08-29 18:45\\tEDT\\t96.0\\tP\\nUSGS\\t03179000\\t2021-08-29 19:00\\tEDT\\t96.0\\tP\\nUSGS\\t03179000\\t2021-08-29 19:15\\tEDT\\t96.0\\tP\\nUSGS\\t03179000\\t2021-08-29 19:30\\tEDT\\t97.3\\tP\\nUSGS\\t03179000\\t2021-08-29 19:45\\tEDT\\t104\\tP\\nUSGS\\t03179000\\t2021-08-29 20:00\\tEDT\\t106\\tP\\nUSGS\\t03179000\\t2021-08-29 20:15\\tEDT\\t106\\tP\\nUSGS\\t03179000\\t2021-08-29 20:30\\tEDT\\t107\\tP\\nUSGS\\t03179000\\t2021-08-29 20:45\\tEDT\\t107\\tP\\nUSGS\\t03179000\\t2021-08-29 21:00\\tEDT\\t109\\tP\\nUSGS\\t03179000\\t2021-08-29 21:15\\tEDT\\t109\\tP\\nUSGS\\t03179000\\t2021-08-29 21:30\\tEDT\\t109\\tP\\nUSGS\\t03179000\\t2021-08-29 21:45\\tEDT\\t107\\tP\\nUSGS\\t03179000\\t2021-08-29 22:00\\tEDT\\t106\\tP\\nUSGS\\t03179000\\t2021-08-29 22:15\\tEDT\\t104\\tP\\nUSGS\\t03179000\\t2021-08-29 22:30\\tEDT\\t103\\tP\\nUSGS\\t03179000\\t2021-08-29 22:45\\tEDT\\t102\\tP\\nUSGS\\t03179000\\t2021-08-29 23:00\\tEDT\\t100\\tP\\nUSGS\\t03179000\\t2021-08-29 23:15\\tEDT\\t98.7\\tP\\nUSGS\\t03179000\\t2021-08-29 23:30\\tEDT\\t98.7\\tP\\nUSGS\\t03179000\\t2021-08-29 23:45\\tEDT\\t97.3\\tP\\nUSGS\\t03179000\\t2021-08-30 00:00\\tEDT\\t97.3\\tP\\nUSGS\\t03179000\\t2021-08-30 00:15\\tEDT\\t97.3\\tP\\nUSGS\\t03179000\\t2021-08-30 00:30\\tEDT\\t97.3\\tP\\nUSGS\\t03179000\\t2021-08-30 00:45\\tEDT\\t97.3\\tP\\nUSGS\\t03179000\\t2021-08-30 01:00\\tEDT\\t97.3\\tP\\nUSGS\\t03179000\\t2021-08-30 01:15\\tEDT\\t97.3\\tP\\nUSGS\\t03179000\\t2021-08-30 01:30\\tEDT\\t97.3\\tP\\nUSGS\\t03179000\\t2021-08-30 01:45\\tEDT\\t97.3\\tP\\nUSGS\\t03179000\\t2021-08-30 02:00\\tEDT\\t97.3\\tP\\nUSGS\\t03179000\\t2021-08-30 02:15\\tEDT\\t97.3\\tP\\nUSGS\\t03179000\\t2021-08-30 02:30\\tEDT\\t97.3\\tP\\nUSGS\\t03179000\\t2021-08-30 02:45\\tEDT\\t96.0\\tP\\nUSGS\\t03179000\\t2021-08-30 03:00\\tEDT\\t96.0\\tP\\nUSGS\\t03179000\\t2021-08-30 03:15\\tEDT\\t96.0\\tP\\nUSGS\\t03179000\\t2021-08-30 03:30\\tEDT\\t94.6\\tP\\nUSGS\\t03179000\\t2021-08-30 03:45\\tEDT\\t94.6\\tP\\nUSGS\\t03179000\\t2021-08-30 04:00\\tEDT\\t93.2\\tP\\nUSGS\\t03179000\\t2021-08-30 04:15\\tEDT\\t93.2\\tP\\nUSGS\\t03179000\\t2021-08-30 04:30\\tEDT\\t93.2\\tP\\nUSGS\\t03179000\\t2021-08-30 04:45\\tEDT\\t91.9\\tP\\nUSGS\\t03179000\\t2021-08-30 05:00\\tEDT\\t91.9\\tP\\nUSGS\\t03179000\\t2021-08-30 05:15\\tEDT\\t91.9\\tP\\nUSGS\\t03179000\\t2021-08-30 05:30\\tEDT\\t91.9\\tP\\nUSGS\\t03179000\\t2021-08-30 05:45\\tEDT\\t90.5\\tP\\nUSGS\\t03179000\\t2021-08-30 06:00\\tEDT\\t90.5\\tP\\nUSGS\\t03179000\\t2021-08-30 06:15\\tEDT\\t90.5\\tP\\nUSGS\\t03179000\\t2021-08-30 06:30\\tEDT\\t90.5\\tP\\nUSGS\\t03179000\\t2021-08-30 06:45\\tEDT\\t90.5\\tP\\nUSGS\\t03179000\\t2021-08-30 07:00\\tEDT\\t90.5\\tP\\nUSGS\\t03179000\\t2021-08-30 07:15\\tEDT\\t90.5\\tP\\nUSGS\\t03179000\\t2021-08-30 07:30\\tEDT\\t90.5\\tP\\nUSGS\\t03179000\\t2021-08-30 07:45\\tEDT\\t90.5\\tP\\nUSGS\\t03179000\\t2021-08-30 08:00\\tEDT\\t89.2\\tP\\nUSGS\\t03179000\\t2021-08-30 08:15\\tEDT\\t89.2\\tP\\nUSGS\\t03179000\\t2021-08-30 08:30\\tEDT\\t91.9\\tP\\nUSGS\\t03179000\\t2021-08-30 08:45\\tEDT\\t91.9\\tP\\nUSGS\\t03179000\\t2021-08-30 09:00\\tEDT\\t93.2\\tP\\nUSGS\\t03179000\\t2021-08-30 09:15\\tEDT\\t93.2\\tP\\nUSGS\\t03179000\\t2021-08-30 09:30\\tEDT\\t93.2\\tP\\nUSGS\\t03179000\\t2021-08-30 09:45\\tEDT\\t93.2\\tP\\nUSGS\\t03179000\\t2021-08-30 10:00\\tEDT\\t93.2\\tP\\nUSGS\\t03179000\\t2021-08-30 10:15\\tEDT\\t93.2\\tP\\nUSGS\\t03179000\\t2021-08-30 10:30\\tEDT\\t93.2\\tP\\nUSGS\\t03179000\\t2021-08-30 10:45\\tEDT\\t93.2\\tP\\nUSGS\\t03179000\\t2021-08-30 11:00\\tEDT\\t93.2\\tP\\nUSGS\\t03179000\\t2021-08-30 11:15\\tEDT\\t93.2\\tP\\nUSGS\\t03179000\\t2021-08-30 11:30\\tEDT\\t93.2\\tP\\nUSGS\\t03179000\\t2021-08-30 11:45\\tEDT\\t93.2\\tP\\nUSGS\\t03179000\\t2021-08-30 12:00\\tEDT\\t93.2\\tP\\nUSGS\\t03179000\\t2021-08-30 12:15\\tEDT\\t93.2\\tP\\nUSGS\\t03179000\\t2021-08-30 12:30\\tEDT\\t93.2\\tP\\nUSGS\\t03179000\\t2021-08-30 12:45\\tEDT\\t93.2\\tP\\nUSGS\\t03179000\\t2021-08-30 13:00\\tEDT\\t93.2\\tP\\nUSGS\\t03179000\\t2021-08-30 13:15\\tEDT\\t93.2\\tP\\nUSGS\\t03179000\\t2021-08-30 13:30\\tEDT\\t93.2\\tP\\nUSGS\\t03179000\\t2021-08-30 13:45\\tEDT\\t93.2\\tP\\nUSGS\\t03179000\\t2021-08-30 14:00\\tEDT\\t93.2\\tP\\nUSGS\\t03179000\\t2021-08-30 14:15\\tEDT\\t93.2\\tP\\nUSGS\\t03179000\\t2021-08-30 14:30\\tEDT\\t93.2\\tP\\nUSGS\\t03179000\\t2021-08-30 14:45\\tEDT\\t93.2\\tP\\nUSGS\\t03179000\\t2021-08-30 15:00\\tEDT\\t93.2\\tP\\nUSGS\\t03179000\\t2021-08-30 15:15\\tEDT\\t93.2\\tP\\nUSGS\\t03179000\\t2021-08-30 15:30\\tEDT\\t91.9\\tP\\nUSGS\\t03179000\\t2021-08-30 15:45\\tEDT\\t91.9\\tP\\nUSGS\\t03179000\\t2021-08-30 16:00\\tEDT\\t93.2\\tP\\nUSGS\\t03179000\\t2021-08-30 16:15\\tEDT\\t93.2\\tP\\nUSGS\\t03179000\\t2021-08-30 16:30\\tEDT\\t94.6\\tP\\nUSGS\\t03179000\\t2021-08-30 16:45\\tEDT\\t96.0\\tP\\nUSGS\\t03179000\\t2021-08-30 17:00\\tEDT\\t96.0\\tP\\nUSGS\\t03179000\\t2021-08-30 17:15\\tEDT\\t97.3\\tP\\nUSGS\\t03179000\\t2021-08-30 17:30\\tEDT\\t97.3\\tP\\nUSGS\\t03179000\\t2021-08-30 17:45\\tEDT\\t98.7\\tP\\nUSGS\\t03179000\\t2021-08-30 18:00\\tEDT\\t98.7\\tP\\nUSGS\\t03179000\\t2021-08-30 18:15\\tEDT\\t100\\tP\\nUSGS\\t03179000\\t2021-08-30 18:30\\tEDT\\t102\\tP\\nUSGS\\t03179000\\t2021-08-30 18:45\\tEDT\\t104\\tP\\nUSGS\\t03179000\\t2021-08-30 19:00\\tEDT\\t109\\tP\\nUSGS\\t03179000\\t2021-08-30 19:15\\tEDT\\t112\\tP\\nUSGS\\t03179000\\t2021-08-30 19:30\\tEDT\\t113\\tP\\nUSGS\\t03179000\\t2021-08-30 19:45\\tEDT\\t115\\tP\\nUSGS\\t03179000\\t2021-08-30 20:00\\tEDT\\t115\\tP\\nUSGS\\t03179000\\t2021-08-30 20:15\\tEDT\\t113\\tP\\nUSGS\\t03179000\\t2021-08-30 20:30\\tEDT\\t113\\tP\\nUSGS\\t03179000\\t2021-08-30 20:45\\tEDT\\t112\\tP\\nUSGS\\t03179000\\t2021-08-30 21:00\\tEDT\\t110\\tP\\nUSGS\\t03179000\\t2021-08-30 21:15\\tEDT\\t109\\tP\\nUSGS\\t03179000\\t2021-08-30 21:30\\tEDT\\t109\\tP\\nUSGS\\t03179000\\t2021-08-30 21:45\\tEDT\\t107\\tP\\nUSGS\\t03179000\\t2021-08-30 22:00\\tEDT\\t107\\tP\\nUSGS\\t03179000\\t2021-08-30 22:15\\tEDT\\t107\\tP\\nUSGS\\t03179000\\t2021-08-30 22:30\\tEDT\\t107\\tP\\nUSGS\\t03179000\\t2021-08-30 22:45\\tEDT\\t106\\tP\\nUSGS\\t03179000\\t2021-08-30 23:00\\tEDT\\t106\\tP\\nUSGS\\t03179000\\t2021-08-30 23:15\\tEDT\\t106\\tP\\nUSGS\\t03179000\\t2021-08-30 23:30\\tEDT\\t106\\tP\\nUSGS\\t03179000\\t2021-08-30 23:45\\tEDT\\t104\\tP\\nUSGS\\t03179000\\t2021-08-31 00:00\\tEDT\\t104\\tP\\nUSGS\\t03179000\\t2021-08-31 00:15\\tEDT\\t104\\tP\\nUSGS\\t03179000\\t2021-08-31 00:30\\tEDT\\t104\\tP\\nUSGS\\t03179000\\t2021-08-31 00:45\\tEDT\\t104\\tP\\nUSGS\\t03179000\\t2021-08-31 01:00\\tEDT\\t106\\tP\\nUSGS\\t03179000\\t2021-08-31 01:15\\tEDT\\t107\\tP\\nUSGS\\t03179000\\t2021-08-31 01:30\\tEDT\\t109\\tP\\nUSGS\\t03179000\\t2021-08-31 01:45\\tEDT\\t112\\tP\\nUSGS\\t03179000\\t2021-08-31 02:00\\tEDT\\t115\\tP\\nUSGS\\t03179000\\t2021-08-31 02:15\\tEDT\\t126\\tP\\nUSGS\\t03179000\\t2021-08-31 02:30\\tEDT\\t148\\tP\\nUSGS\\t03179000\\t2021-08-31 02:45\\tEDT\\t172\\tP\\nUSGS\\t03179000\\t2021-08-31 03:00\\tEDT\\t192\\tP\\nUSGS\\t03179000\\t2021-08-31 03:15\\tEDT\\t200\\tP\\nUSGS\\t03179000\\t2021-08-31 03:30\\tEDT\\t203\\tP\\nUSGS\\t03179000\\t2021-08-31 03:45\\tEDT\\t203\\tP\\nUSGS\\t03179000\\t2021-08-31 04:00\\tEDT\\t203\\tP\\nUSGS\\t03179000\\t2021-08-31 04:15\\tEDT\\t203\\tP\\nUSGS\\t03179000\\t2021-08-31 04:30\\tEDT\\t203\\tP\\nUSGS\\t03179000\\t2021-08-31 04:45\\tEDT\\t200\\tP\\nUSGS\\t03179000\\t2021-08-31 05:00\\tEDT\\t200\\tP\\nUSGS\\t03179000\\t2021-08-31 05:15\\tEDT\\t198\\tP\\nUSGS\\t03179000\\t2021-08-31 05:30\\tEDT\\t196\\tP\\nUSGS\\t03179000\\t2021-08-31 05:45\\tEDT\\t194\\tP\\nUSGS\\t03179000\\t2021-08-31 06:00\\tEDT\\t192\\tP\\nUSGS\\t03179000\\t2021-08-31 06:15\\tEDT\\t190\\tP\\nUSGS\\t03179000\\t2021-08-31 06:30\\tEDT\\t188\\tP\\nUSGS\\t03179000\\t2021-08-31 06:45\\tEDT\\t186\\tP\\nUSGS\\t03179000\\t2021-08-31 07:00\\tEDT\\t184\\tP\\nUSGS\\t03179000\\t2021-08-31 07:15\\tEDT\\t182\\tP\\nUSGS\\t03179000\\t2021-08-31 07:30\\tEDT\\t180\\tP\\nUSGS\\t03179000\\t2021-08-31 07:45\\tEDT\\t178\\tP\\nUSGS\\t03179000\\t2021-08-31 08:00\\tEDT\\t178\\tP\\nUSGS\\t03179000\\t2021-08-31 08:15\\tEDT\\t176\\tP\\nUSGS\\t03179000\\t2021-08-31 08:30\\tEDT\\t174\\tP\\nUSGS\\t03179000\\t2021-08-31 08:45\\tEDT\\t172\\tP\\nUSGS\\t03179000\\t2021-08-31 09:00\\tEDT\\t170\\tP\\nUSGS\\t03179000\\t2021-08-31 09:15\\tEDT\\t168\\tP\\nUSGS\\t03179000\\t2021-08-31 09:30\\tEDT\\t168\\tP\\nUSGS\\t03179000\\t2021-08-31 09:45\\tEDT\\t166\\tP\\nUSGS\\t03179000\\t2021-08-31 10:00\\tEDT\\t164\\tP\\nUSGS\\t03179000\\t2021-08-31 10:15\\tEDT\\t163\\tP\\nUSGS\\t03179000\\t2021-08-31 10:30\\tEDT\\t163\\tP\\nUSGS\\t03179000\\t2021-08-31 10:45\\tEDT\\t161\\tP\\nUSGS\\t03179000\\t2021-08-31 11:00\\tEDT\\t161\\tP\\nUSGS\\t03179000\\t2021-08-31 11:15\\tEDT\\t159\\tP\\nUSGS\\t03179000\\t2021-08-31 11:30\\tEDT\\t157\\tP\\nUSGS\\t03179000\\t2021-08-31 11:45\\tEDT\\t155\\tP\\nUSGS\\t03179000\\t2021-08-31 12:00\\tEDT\\t155\\tP\\nUSGS\\t03179000\\t2021-08-31 12:15\\tEDT\\t153\\tP\\nUSGS\\t03179000\\t2021-08-31 12:30\\tEDT\\t153\\tP\\nUSGS\\t03179000\\t2021-08-31 12:45\\tEDT\\t152\\tP\\nUSGS\\t03179000\\t2021-08-31 13:00\\tEDT\\t150\\tP\\nUSGS\\t03179000\\t2021-08-31 13:15\\tEDT\\t150\\tP\\nUSGS\\t03179000\\t2021-08-31 13:30\\tEDT\\t148\\tP\\nUSGS\\t03179000\\t2021-08-31 13:45\\tEDT\\t148\\tP\\nUSGS\\t03179000\\t2021-08-31 14:00\\tEDT\\t148\\tP\\nUSGS\\t03179000\\t2021-08-31 14:15\\tEDT\\t146\\tP\\nUSGS\\t03179000\\t2021-08-31 14:30\\tEDT\\t146\\tP\\nUSGS\\t03179000\\t2021-08-31 14:45\\tEDT\\t146\\tP\\nUSGS\\t03179000\\t2021-08-31 15:00\\tEDT\\t146\\tP\\nUSGS\\t03179000\\t2021-08-31 15:15\\tEDT\\t146\\tP\\nUSGS\\t03179000\\t2021-08-31 15:30\\tEDT\\t148\\tP\\nUSGS\\t03179000\\t2021-08-31 15:45\\tEDT\\t148\\tP\\nUSGS\\t03179000\\t2021-08-31 16:00\\tEDT\\t150\\tP\\nUSGS\\t03179000\\t2021-08-31 16:15\\tEDT\\t152\\tP\\nUSGS\\t03179000\\t2021-08-31 16:30\\tEDT\\t152\\tP\\nUSGS\\t03179000\\t2021-08-31 16:45\\tEDT\\t153\\tP\\nUSGS\\t03179000\\t2021-08-31 17:00\\tEDT\\t155\\tP\\nUSGS\\t03179000\\t2021-08-31 17:15\\tEDT\\t157\\tP\\nUSGS\\t03179000\\t2021-08-31 17:30\\tEDT\\t159\\tP\\nUSGS\\t03179000\\t2021-08-31 17:45\\tEDT\\t161\\tP\\nUSGS\\t03179000\\t2021-08-31 18:00\\tEDT\\t163\\tP\\nUSGS\\t03179000\\t2021-08-31 18:15\\tEDT\\t163\\tP\\nUSGS\\t03179000\\t2021-08-31 18:30\\tEDT\\t164\\tP\\nUSGS\\t03179000\\t2021-08-31 18:45\\tEDT\\t164\\tP\\nUSGS\\t03179000\\t2021-08-31 19:00\\tEDT\\t166\\tP\\nUSGS\\t03179000\\t2021-08-31 19:15\\tEDT\\t166\\tP\\nUSGS\\t03179000\\t2021-08-31 19:30\\tEDT\\t166\\tP\\nUSGS\\t03179000\\t2021-08-31 19:45\\tEDT\\t166\\tP\\nUSGS\\t03179000\\t2021-08-31 20:00\\tEDT\\t168\\tP\\nUSGS\\t03179000\\t2021-08-31 20:15\\tEDT\\t168\\tP\\nUSGS\\t03179000\\t2021-08-31 20:30\\tEDT\\t168\\tP\\nUSGS\\t03179000\\t2021-08-31 20:45\\tEDT\\t168\\tP\\nUSGS\\t03179000\\t2021-08-31 21:00\\tEDT\\t170\\tP\\nUSGS\\t03179000\\t2021-08-31 21:15\\tEDT\\t170\\tP\\nUSGS\\t03179000\\t2021-08-31 21:30\\tEDT\\t170\\tP\\nUSGS\\t03179000\\t2021-08-31 21:45\\tEDT\\t168\\tP\\nUSGS\\t03179000\\t2021-08-31 22:00\\tEDT\\t168\\tP\\nUSGS\\t03179000\\t2021-08-31 22:15\\tEDT\\t168\\tP\\nUSGS\\t03179000\\t2021-08-31 22:30\\tEDT\\t168\\tP\\nUSGS\\t03179000\\t2021-08-31 22:45\\tEDT\\t168\\tP\\nUSGS\\t03179000\\t2021-08-31 23:00\\tEDT\\t168\\tP\\nUSGS\\t03179000\\t2021-08-31 23:15\\tEDT\\t168\\tP\\nUSGS\\t03179000\\t2021-08-31 23:30\\tEDT\\t168\\tP\\nUSGS\\t03179000\\t2021-08-31 23:45\\tEDT\\t168\\tP\\nUSGS\\t03179000\\t2021-09-01 00:00\\tEDT\\t168\\tP\\nUSGS\\t03179000\\t2021-09-01 00:15\\tEDT\\t168\\tP\\nUSGS\\t03179000\\t2021-09-01 00:30\\tEDT\\t168\\tP\\nUSGS\\t03179000\\t2021-09-01 00:45\\tEDT\\t168\\tP\\nUSGS\\t03179000\\t2021-09-01 01:00\\tEDT\\t168\\tP\\n\"\n"
                    ]
                }
            ],
            "metadata": {}
        }
    ],
    "metadata": {
        "orig_nbformat": 4,
        "language_info": {
            "name": "python",
            "version": "3.8.8",
            "mimetype": "text/x-python",
            "codemirror_mode": {
                "name": "ipython",
                "version": 3
            },
            "pygments_lexer": "ipython3",
            "nbconvert_exporter": "python",
            "file_extension": ".py"
        },
        "kernelspec": {
            "name": "python3",
            "display_name": "Python 3.8.8 64-bit ('base': conda)"
        },
        "interpreter": {
            "hash": "c21894d0330b3f748bfc20dc7634c8fe2121d74a2a48065d0f0f889b7826168c"
        }
    },
    "nbformat": 4,
    "nbformat_minor": 2
}