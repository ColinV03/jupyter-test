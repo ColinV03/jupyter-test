{
    "cells": [
        {
            "cell_type": "markdown",
            "source": [
                "# This is fantastic! Itemized Python Cells! \r\n"
            ],
            "metadata": {}
        },
        {
            "cell_type": "markdown",
            "source": [
                "#### This is some of the sub-headers that can be created! \r\n",
                "\r\n"
            ],
            "metadata": {}
        },
        {
            "cell_type": "markdown",
            "source": [
                "Tutorial can be found [here](https://www.learnpython.org/)\r\n",
                "\r\n",
                "Along with the Foundations of Applied Mathematics coursework found [here](https://foundations-of-applied-mathematics.github.io/)"
            ],
            "metadata": {}
        },
        {
            "cell_type": "markdown",
            "source": [
                "#### Intro to Python work: "
            ],
            "metadata": {}
        },
        {
            "cell_type": "code",
            "execution_count": null,
            "source": [
                "print(\"Hello World! \")\r\n",
                "\r\n"
            ],
            "outputs": [],
            "metadata": {}
        },
        {
            "cell_type": "code",
            "execution_count": null,
            "source": [
                "name = input(\"What's your name?:  \")\r\n",
                "print(\"Hello, {}\".format(name))"
            ],
            "outputs": [],
            "metadata": {}
        },
        {
            "cell_type": "markdown",
            "source": [
                "#### Some Variable work: \r\n"
            ],
            "metadata": {}
        },
        {
            "cell_type": "code",
            "execution_count": null,
            "source": [
                "name = \"Colin\"\r\n",
                "print(name)"
            ],
            "outputs": [],
            "metadata": {}
        },
        {
            "cell_type": "markdown",
            "source": [
                "##### Float Numbers`"
            ],
            "metadata": {}
        },
        {
            "cell_type": "code",
            "execution_count": null,
            "source": [
                "myFloat = 4.0\r\n",
                "print(myFloat)\r\n",
                "myFloat = float(5)\r\n",
                "print(myFloat)"
            ],
            "outputs": [],
            "metadata": {}
        },
        {
            "cell_type": "markdown",
            "source": [
                "##### String Storage"
            ],
            "metadata": {}
        },
        {
            "cell_type": "code",
            "execution_count": null,
            "source": [
                "someText = \"Hello!\"\r\n",
                "print(someText)"
            ],
            "outputs": [],
            "metadata": {}
        },
        {
            "cell_type": "markdown",
            "source": [
                "##### multi storage: \r\n"
            ],
            "metadata": {}
        },
        {
            "cell_type": "code",
            "execution_count": null,
            "source": [
                "a,b = 3, 4\r\n",
                "print(a,b)"
            ],
            "outputs": [],
            "metadata": {}
        },
        {
            "cell_type": "markdown",
            "source": [
                "##### Lists! "
            ],
            "metadata": {}
        },
        {
            "cell_type": "code",
            "execution_count": null,
            "source": [
                "myList = []\r\n",
                "myList.append(1)\r\n",
                "myList.append(2)\r\n",
                "myList.append(3)\r\n",
                "\r\n",
                "print(myList)\r\n",
                "\r\n",
                "#Also, some looping! \r\n",
                "\r\n",
                "\r\n",
                "for x in myList:\r\n",
                "    print(x)"
            ],
            "outputs": [],
            "metadata": {}
        },
        {
            "cell_type": "markdown",
            "source": [
                "### Math Time!"
            ],
            "metadata": {}
        },
        {
            "cell_type": "code",
            "execution_count": null,
            "source": [
                "# all the fun features, including modulus(remainder)\r\n",
                "\r\n",
                "sum = 1 + 2\r\n",
                "subtract = 2 - 1\r\n",
                "multiply = 3 * 3\r\n",
                "divide = 21 / 7\r\n",
                "\r\n",
                "#How many times it can divide, and then returns the remainder of the value associated with it.\r\n",
                " \r\n",
                "remainder = 24 % 7\r\n",
                "\r\n",
                "print(sum)\r\n",
                "print(subtract)\r\n",
                "print(multiply)\r\n",
                "print(divide)\r\n",
                "print(remainder)\r\n"
            ],
            "outputs": [],
            "metadata": {}
        },
        {
            "cell_type": "markdown",
            "source": [
                "#### With Lists: "
            ],
            "metadata": {}
        },
        {
            "cell_type": "code",
            "execution_count": null,
            "source": [
                "listOne = [1,2,3,4,5]\r\n",
                "listTwo = [6,7,8,9,10]\r\n",
                "\r\n",
                "cumulativeList = listOne + listTwo\r\n",
                "print(cumulativeList)\r\n"
            ],
            "outputs": [],
            "metadata": {}
        },
        {
            "cell_type": "code",
            "execution_count": null,
            "source": [
                "#Multiply: \r\n",
                "\r\n",
                "listThree = [1,3,5]\r\n",
                "print(listThree * 3)"
            ],
            "outputs": [],
            "metadata": {}
        },
        {
            "cell_type": "markdown",
            "source": [
                "### String Formatting: \r\n"
            ],
            "metadata": {}
        },
        {
            "cell_type": "code",
            "execution_count": null,
            "source": [
                "#Using %s or %d for values to import variables as a string. \r\n",
                "\r\n",
                "\r\n",
                "name = \"Colin\"\r\n",
                "print(\"Hello, %s!\" % name)\r\n",
                "\r\n",
                "# This prints out \"Colin is 23 years old.\"\r\n",
                "age = 23\r\n",
                "print(\"%s is %d years old.\" % (name, age))\r\n",
                "\r\n",
                "\r\n",
                "#Lists can be printed too! \r\n",
                "\r\n",
                "fruits = [\"Apple\", \"Banana\", \"Orange\"]\r\n",
                "print(\"This is what I found: %s!\" % fruits)"
            ],
            "outputs": [],
            "metadata": {}
        },
        {
            "cell_type": "code",
            "execution_count": null,
            "source": [
                "#Strings can have length( len(item))\r\n",
                "\r\n",
                "\r\n",
                "string = \"Hello World\"\r\n",
                "print(len(string))\r\n",
                "\r\n",
                "b"
            ],
            "outputs": [],
            "metadata": {}
        },
        {
            "cell_type": "code",
            "execution_count": null,
            "source": [
                "#What about indexing items? \r\n",
                "\r\n",
                "print(string.index('o'))\r\n",
                "\r\n",
                "# Counting number of items? \r\n",
                "print(string.count(\"o\"))\r\n",
                "\r\n",
                "#printing sections of the string can be done by setting a start and end point(Slice) for the characters: \r\n",
                "print(string[3:8])\r\n",
                "\r\n",
                "#Reverse? Set the slice at  [::-1]\r\n",
                "print(string[::-1])\r\n",
                "\r\n",
                "#Upper? \r\n",
                "print(string.upper())\r\n",
                "\r\n",
                "#ALSO! Variables can be passed through the notebook\r\n"
            ],
            "outputs": [],
            "metadata": {}
        },
        {
            "cell_type": "code",
            "execution_count": null,
            "source": [
                "#String Validation: \r\n",
                "\r\n",
                "if string == \"Hello World\" and name == \"Colin\":\r\n",
                "    print(\"It works! Hello World and Colin are correct\")"
            ],
            "outputs": [],
            "metadata": {}
        },
        {
            "cell_type": "markdown",
            "source": [
                "#### API CALLS! \r\n"
            ],
            "metadata": {}
        },
        {
            "cell_type": "code",
            "execution_count": null,
            "source": [
                "#import requests\r\n",
                "\r\n",
                "#r = requests.get(\"https://swapi.dev/api/people/1\")\r\n",
                "\r\n",
                "#r.status_code\r\n",
                "#content = r.content\r\n",
                "#print(content)"
            ],
            "outputs": [],
            "metadata": {}
        },
        {
            "cell_type": "code",
            "execution_count": null,
            "source": [
                "#import pandas as pd\r\n",
                "#mport requests\r\n",
                "\r\n",
                "#usgsValueAPI = \"https://waterservices.usgs.gov/nwis/iv/?format=json&sites=03179000&period=p2d&parameterCd=00060&siteStatus=all\"\r\n",
                "#values = requests.get(usgsValueAPI)\r\n",
                "#print(values.content)\r\n",
                "\r\n",
                "#waterData = pd.read_json(usgsValueAPI)\r\n",
                "#print(waterData)\r\n",
                "\r\n",
                "\r\n",
                "#df_nested_list = pd.json_normalize(usgsValueAPI, record_path=[\"timeSeries\"])\r\n",
                "\r\n",
                "\r\n",
                "\r\n",
                " \r\n"
            ],
            "outputs": [],
            "metadata": {}
        },
        {
            "cell_type": "code",
            "execution_count": null,
            "source": [
                "name = \"Colin\"\r\n",
                "print(name.find(\"li\"))"
            ],
            "outputs": [],
            "metadata": {}
        },
        {
            "cell_type": "code",
            "execution_count": null,
            "source": [
                "word = \"         bananana\"\r\n",
                "i = word.find(\"na\") \r\n",
                "print(i)\r\n",
                "print(word)\r\n",
                "print(word.lstrip())\r\n",
                "print(word.rstrip())\r\n",
                "print(word)\r\n"
            ],
            "outputs": [],
            "metadata": {}
        },
        {
            "cell_type": "markdown",
            "source": [
                "# Opening a File! \r\n",
                "\r\n",
                "handle = open()\r\n",
                "\r\n",
                "# Files are read in a sequence of Lines: all broken up by whitespace characters(\\n)\r\n",
                "\r\n",
                "## What about files as a sequence: \r\n",
                "\r\n",
                "handle  = open(\"filename\")\r\n",
                "\r\n",
                "## FOR EACH LINE: PRINT LINE\r\n",
                "\r\n",
                "for variable in handle:\r\n",
                "    #print(variable)\r\n",
                "\r\n",
                "\r\n"
            ],
            "metadata": {}
        },
        {
            "cell_type": "code",
            "execution_count": null,
            "source": [
                "#Opening a File! \r\n",
                "\r\n",
                "#handle = open()\r\n",
                "\r\n",
                "#Files are read in a sequence of Lines: all broken up by whitespace characters(\\n)\r\n",
                "\r\n",
                "#What about files as a sequence: \r\n",
                "\r\n",
                "#handle  = open(\"filename\")\r\n",
                "\r\n",
                "###FOR EACH LINE: PRINT LINE\r\n",
                "\r\n",
                "#for variable in handle:\r\n",
                "    #print(variable)"
            ],
            "outputs": [],
            "metadata": {}
        },
        {
            "cell_type": "code",
            "execution_count": null,
            "source": [
                "#Read the whole file: \r\n",
                "\r\n",
                "# results = handle.read()b\r\n",
                "#print(results)\r\n",
                "\r\n"
            ],
            "outputs": [],
            "metadata": {}
        },
        {
            "cell_type": "markdown",
            "source": [
                "What about finding things with \"From\""
            ],
            "metadata": {}
        },
        {
            "cell_type": "code",
            "execution_count": null,
            "source": [
                "#fhand = open(filename)\r\n",
                "#or line in fhand:\r\n",
                " #   if line.startswith(\"From:\" ):\r\n",
                "  #      print(line)\r\n",
                "\r\n",
                "\r\n",
                "#BUT it prints a new line each time! \r\n",
                "#remove whitespace with .rstrip()\r\n",
                "\r\n"
            ],
            "outputs": [],
            "metadata": {}
        },
        {
            "cell_type": "markdown",
            "source": [
                "### Using Continue!\r\n",
                "\r\n",
                "Continue steps out of current function, goes to next. "
            ],
            "metadata": {}
        },
        {
            "cell_type": "markdown",
            "source": [
                "## What about Try and Continue: "
            ],
            "metadata": {}
        },
        {
            "cell_type": "code",
            "execution_count": null,
            "source": [
                "fname = print(input(\"Enter file name: \"))\r\n",
                "try: \r\n",
                "    fopen = open(fname)\r\n",
                "except:\r\n",
                "    print(\"File cannot be opened: \", fname)\r\n",
                "    quit()\r\n"
            ],
            "outputs": [],
            "metadata": {}
        },
        {
            "cell_type": "markdown",
            "source": [
                "# Lists: "
            ],
            "metadata": {}
        },
        {
            "cell_type": "code",
            "execution_count": 4,
            "source": [
                "sampleList = [1,2,3]\r\n",
                "print(sampleList[1]) \r\n",
                "print(range(len(sampleList)))"
            ],
            "outputs": [
                {
                    "output_type": "stream",
                    "name": "stdout",
                    "text": [
                        "2\n",
                        "range(0, 3)\n"
                    ]
                }
            ],
            "metadata": {}
        },
        {
            "cell_type": "markdown",
            "source": [
                "# Dictionaries! "
            ],
            "metadata": {}
        },
        {
            "cell_type": "markdown",
            "source": [
                "#### looks a lot like JS Objects! K-V pairs!\r\n",
                "\r\n",
                "Some common applications: "
            ],
            "metadata": {}
        },
        {
            "cell_type": "code",
            "execution_count": 46,
            "source": [
                "names = [ 'quincy', 'mrugesh' , 'beau', \"beau\"]\r\n",
                "\r\n",
                "#Check if item is in dictionary: \r\n",
                "\"colin\" in names\r\n",
                "\r\n",
                "#So what happens if it's new? \r\n",
                "counts = dict()\r\n",
                "for name in names:\r\n",
                "    if name not in counts:\r\n",
                "        counts[name] = 1\r\n",
                "    else:\r\n",
                "        counts[name] = counts[name] + 1\r\n",
                "print(counts)\r\n",
                "\r\n",
                "\r\n",
                "# What about Get? \r\n",
                "# Checking if the key is in there: variable = dictionaryName.get(\"Key\", default)\r\n",
                "\r\n",
                "#False: Expected = 0\r\n",
                "nameInDict = counts.get(\"colin\", 0)\r\n",
                "print(nameInDict)\r\n",
                "\r\n",
                "# True: expected = 1\r\n",
                "nameInDict = counts.get(\"quincy\", 0)\r\n",
                "print(nameInDict)\r\n",
                "\r\n",
                "# orrrrrr:\r\n",
                "# \r\n",
                "# do the counts this way:  \r\n",
                "counts2 = dict()\r\n",
                "for name in names: \r\n",
                "    counts2[name] = counts2.get(name, 0) + 1\r\n",
                "print(  counts2)\r\n",
                "print(\"list: \", list(counts2))\r\n",
                "print(\"Keys: \", counts2.keys())\r\n",
                "print(\"Values \" ,counts2.values())\r\n",
                "print(\"Tuple! \", counts2.items())\r\n",
                "        "
            ],
            "outputs": [
                {
                    "output_type": "stream",
                    "name": "stdout",
                    "text": [
                        "{'quincy': 1, 'mrugesh': 1, 'beau': 2}\n",
                        "0\n",
                        "1\n",
                        "{'quincy': 1, 'mrugesh': 1, 'beau': 2}\n",
                        "list:  ['quincy', 'mrugesh', 'beau']\n",
                        "Keys:  dict_keys(['quincy', 'mrugesh', 'beau'])\n",
                        "Values  dict_values([1, 1, 2])\n",
                        "Tuple!  dict_items([('quincy', 1), ('mrugesh', 1), ('beau', 2)])\n"
                    ]
                }
            ],
            "metadata": {}
        },
        {
            "cell_type": "code",
            "execution_count": 47,
            "source": [
                "# count things in paragraphs. \r\n",
                "\r\n",
                "counting = dict()\r\n",
                "print(\"Enter a line of text...\")\r\n",
                "line = \"The quick brown fox jumped over the lazy dog dog\"\r\n",
                "\r\n",
                "\r\n",
                "words = line.split()\r\n",
                "\r\n",
                "print(\"Words: \", words)\r\n",
                "\r\n",
                "print(\"Counting...\")\r\n",
                "for word in words:\r\n",
                "    counting[word] = counting.get(word, 0) + 1\r\n",
                "print(\"Counts: \", counting)\r\n",
                "\r\n",
                "print(max(counting, key= counting.get))\r\n",
                "\r\n",
                "        \r\n"
            ],
            "outputs": [
                {
                    "output_type": "stream",
                    "name": "stdout",
                    "text": [
                        "Enter a line of text...\n",
                        "Words:  ['The', 'quick', 'brown', 'fox', 'jumped', 'over', 'the', 'lazy', 'dog', 'dog']\n",
                        "Counting...\n",
                        "Counts:  {'The': 1, 'quick': 1, 'brown': 1, 'fox': 1, 'jumped': 1, 'over': 1, 'the': 1, 'lazy': 1, 'dog': 2}\n",
                        "dog\n"
                    ]
                }
            ],
            "metadata": {}
        },
        {
            "cell_type": "markdown",
            "source": [
                "# Tuples! \r\n",
                "\r\n",
                "\r\n",
                "Much like lists: Elements are indexed at 0, accessed by tuple name[index]\r\n",
                "print(max(tuple))\r\n",
                "\r\n",
                "## BUTTTTT\r\n",
                "Tuples are IMMUTABLE \r\n",
                "cannot alter the contents. no reassignments. Kinda like using const with JS\r\n",
                "\r\n",
                "like y = \"ABC\" \r\n",
                "y[2] = \"D\" \r\n",
                "#### ERRORS\r\n",
                "\r\n",
                "\r\n",
                "x = (1,2,3)\r\n",
                "x[2]  = 4\r\n",
                "## NOT MODIFIABLE; \r\n",
                "\r\n",
                "Tuples are more efficient than lists, but are limited. \r\n",
                "\r\n",
                "Cant sort tuples, cant add to end of tuple, cant change order. \r\n",
                "Basically: Cant modify anything like you could a list. \r\n",
                "\r\n",
                "## BUT WHY? \r\n",
                "\r\n",
                "Tuples are useful when making temporary variables. Pretty fast, considering they only have count and index methods. \r\n",
                "\r\n",
                "## Tuples can have multivariable assignments on left. \r\n",
                "\r\n",
                "(a,b,c) = (1,2,3)\r\n",
                "print(a) = 1\r\n",
                "\r\n",
                "## Can act like dictionaries: \r\n",
                "\r\n"
            ],
            "metadata": {}
        },
        {
            "cell_type": "code",
            "execution_count": 48,
            "source": [
                "d = dict()\r\n",
                "d[\"csev\"] = 2\r\n",
                "d[\"cwen\"] = 3\r\n",
                "\r\n",
                "for (k, v) in d.items():\r\n",
                "    print(k, v)\r\n",
                "\r\n",
                "tups = d.items()\r\n",
                "print(tups)\r\n"
            ],
            "outputs": [
                {
                    "output_type": "stream",
                    "name": "stdout",
                    "text": [
                        "csev 2\n",
                        "cwen 3\n",
                        "dict_items([('csev', 2), ('cwen', 3)])\n"
                    ]
                }
            ],
            "metadata": {}
        },
        {
            "cell_type": "markdown",
            "source": [
                "## Comparable:\r\n"
            ],
            "metadata": {}
        },
        {
            "cell_type": "code",
            "execution_count": 49,
            "source": [
                "(0,1,2) > (5,4,3)"
            ],
            "outputs": [
                {
                    "output_type": "execute_result",
                    "data": {
                        "text/plain": [
                            "False"
                        ]
                    },
                    "metadata": {},
                    "execution_count": 49
                }
            ],
            "metadata": {}
        },
        {
            "cell_type": "markdown",
            "source": [
                "# Tuples!\r\n",
                "\r\n",
                "Tuples are like lists, but are not mutable and are really quick ways to store limited data. \r\n",
                "\r\n",
                "Lists have more methods, dir(list_name) vs dir(tuple_name)\r\n",
                "\r\n",
                "Tuples are more efficient, and are faster. \r\n",
                "\r\n",
                "You can assign multiples with a left-right balance"
            ],
            "metadata": {}
        },
        {
            "cell_type": "code",
            "execution_count": null,
            "source": [
                "test_tuple = (1,2,3)\r\n",
                "print(test_tuple.count(1))\r\n",
                "\r\n",
                "#Multiple assignments\r\n",
                "(x,y,z) = (0.1, 1, -2)\r\n",
                "print(z)"
            ],
            "outputs": [
                {
                    "output_type": "stream",
                    "name": "stdout",
                    "text": [
                        "1\n",
                        "-2\n"
                    ]
                }
            ],
            "metadata": {}
        },
        {
            "cell_type": "markdown",
            "source": [
                "### Check this out!\r\n",
                "\r\n",
                "Assign a dictionary to a tuple, and it stores the values internally: \r\n",
                "\r\n"
            ],
            "metadata": {}
        },
        {
            "cell_type": "code",
            "execution_count": 22,
            "source": [
                "d = dict()\r\n",
                "\r\n",
                "### key, value\r\n",
                "d[\"21351\"] = 101\r\n",
                "d[\"11111\"] = 23\r\n",
                "d[\"22222\"] = 124\r\n",
                "d[\"12312\"] = 0\r\n",
                "d[\"23131\"] = 2\r\n",
                "d[\"12372\"] = 1\r\n",
                "print(d)\r\n",
                "\r\n",
                "sandbox_tuple = d.items()\r\n",
                "print(sandbox_tuple)\r\n",
                "\r\n",
                "#Sorted sorts by KEY! NoT VALUE!\r\n",
                "\r\n",
                "print(sorted(sandbox_tuple))\r\n"
            ],
            "outputs": [
                {
                    "output_type": "stream",
                    "name": "stdout",
                    "text": [
                        "{'21351': 101, '11111': 23, '22222': 124, '12312': 0, '23131': 2, '12372': 1}\n",
                        "dict_items([('21351', 101), ('11111', 23), ('22222', 124), ('12312', 0), ('23131', 2), ('12372', 1)])\n",
                        "[('11111', 23), ('12312', 0), ('12372', 1), ('21351', 101), ('22222', 124), ('23131', 2)]\n"
                    ]
                }
            ],
            "metadata": {}
        },
        {
            "cell_type": "markdown",
            "source": [
                "Functions: \r\n"
            ],
            "metadata": {}
        },
        {
            "cell_type": "code",
            "execution_count": 4,
            "source": [
                "def sum(x, y):\r\n",
                "    return x + y, x - y\r\n",
                "\r\n",
                "sum(3,4)\r\n",
                "#also able to extract things: \r\n",
                "\r\n",
                "# CAn do multiple functions with one call. and unpack returns into different variables. \r\n",
                "\r\n",
                "\r\n",
                "a, b = sum(1,2)\r\n",
                "print(a,b)\r\n",
                "\r\n",
                "\r\n"
            ],
            "outputs": [
                {
                    "output_type": "stream",
                    "name": "stdout",
                    "text": [
                        "3 -1\n"
                    ]
                }
            ],
            "metadata": {}
        },
        {
            "cell_type": "markdown",
            "source": [
                "# LAMBDA: \r\n",
                "\r\n",
                "Weird stuff here. Can use lambda to create one line functions: \r\n",
                "\r\n",
                "eg: \r\n",
                "\r\n",
                "def f(x):\r\n",
                "    return 6x^3 + 2x^2 + (x+1)\r\n",
                "\r\n",
                "into: \r\n",
                "\r\n",
                "F = lambda x: 6x^3 + 2x^2 + (x+1)\r\n",
                "\r\n",
                "\r\n",
                "ONLY USE LAMBDA ON SIMPLE OR INTUITIVE FUNCTIONS. \r\n",
                "\r\n",
                "\r\n",
                "\r\n"
            ],
            "metadata": {}
        },
        {
            "cell_type": "code",
            "execution_count": 7,
            "source": [
                "#Make sure to have returns for things that you want variable assignments for. \r\n",
                "\r\n",
                "def oops(i):\r\n",
                " print(i + 1)\r\n",
                "\r\n",
                "def increment(i):\r\n",
                " return i + 1\r\n",
                "\r\n",
                "x = oops(1999) # x contains 'None' since oops()\r\n",
                "y = increment(1999)\r\n",
                "print(x, y)"
            ],
            "outputs": [
                {
                    "output_type": "stream",
                    "name": "stdout",
                    "text": [
                        "2000\n",
                        "None 2000\n"
                    ]
                }
            ],
            "metadata": {}
        },
        {
            "cell_type": "markdown",
            "source": [
                "Problem 3. The volume of a sphere with radius r is V =\r\n",
                "4\r\n",
                "3\r\n",
                "πr3\r\n",
                ". In your Python file from\r\n",
                "Problem 2, define a function called sphere_volume() that accepts a single parameter r. Return\r\n",
                "the volume of the sphere of radius r, using 3.14159 as an approximation for π (for now). Also\r\n",
                "write an appropriate docstring for your function.\r\n",
                "To test your function, call it under the if __name__ == '__main__': clause and print\r\n",
                "the returned value. Run your file to see if your answer is what you expect it to be.\r\n"
            ],
            "metadata": {}
        },
        {
            "cell_type": "code",
            "execution_count": 15,
            "source": [
                "def sphere_volume(radius):\r\n",
                "    pi = 3.14\r\n",
                "    return (4/3)*pi*(radius**3)\r\n",
                "\r\n",
                "sphere_volume(3)"
            ],
            "outputs": [
                {
                    "output_type": "execute_result",
                    "data": {
                        "text/plain": [
                            "113.03999999999999"
                        ]
                    },
                    "metadata": {},
                    "execution_count": 15
                }
            ],
            "metadata": {}
        },
        {
            "cell_type": "markdown",
            "source": [
                "It works! Google says 113.1 for radius. "
            ],
            "metadata": {}
        },
        {
            "cell_type": "markdown",
            "source": [
                "# NUMPY TIME!\r\n"
            ],
            "metadata": {}
        },
        {
            "cell_type": "code",
            "execution_count": 14,
            "source": [
                "import numpy as np\r\n",
                "\r\n",
                "array = np.array([8,4,6,0,2])\r\n",
                "print(array, \"is a 1-D Array\")\r\n",
                "\r\n",
                "#What about 2-d Arrays?\r\n",
                "\r\n",
                "two_dimension_array = np.array( [ [0,1,2] ,[3,4,5] ] )\r\n",
                "#NEEDS EXTRA BRACKET AROUND ARRAY\r\n",
                " \r\n",
                "\r\n",
                "print(two_dimension_array)"
            ],
            "outputs": [
                {
                    "output_type": "stream",
                    "name": "stdout",
                    "text": [
                        "[8 4 6 0 2] is a 1-D Array\n",
                        "[[0 1 2]\n",
                        " [3 4 5]]\n"
                    ]
                }
            ],
            "metadata": {}
        },
        {
            "cell_type": "markdown",
            "source": [
                "Problem #4! \r\n",
                "\r\n",
                "There are two main ways to perform matrix multiplication in NumPy: with\r\n",
                "NumPy’s dot() function (np.dot(A, B)), or with the @ operator (A @ B). Write a function\r\n",
                "that defines the following matrices as NumPy arrays.\r\n"
            ],
            "metadata": {}
        },
        {
            "cell_type": "code",
            "execution_count": 28,
            "source": [
                "array1 = np.array([[3, -1, 4], [1, 5, -9]])\r\n",
                "\r\n",
                "\r\n",
                "array2 = np.array([[2,6,-5,3], [5,-8,9,7],[9,-3,-2,-3]])\r\n",
                "\r\n",
                "print(array1, array2)\r\n",
                "\r\n",
                "def prob4(array1, array2):\r\n",
                "    return (array1 @ array2)\r\n",
                "\r\n",
                "prob4(array1, array2)"
            ],
            "outputs": [
                {
                    "output_type": "stream",
                    "name": "stdout",
                    "text": [
                        "[[ 3 -1  4]\n",
                        " [ 1  5 -9]] [[ 2  6 -5  3]\n",
                        " [ 5 -8  9  7]\n",
                        " [ 9 -3 -2 -3]]\n"
                    ]
                },
                {
                    "output_type": "execute_result",
                    "data": {
                        "text/plain": [
                            "array([[ 37,  14, -32, -10],\n",
                            "       [-54,  -7,  58,  65]])"
                        ]
                    },
                    "metadata": {},
                    "execution_count": 28
                }
            ],
            "metadata": {}
        },
        {
            "cell_type": "markdown",
            "source": [
                "### NUMPY handles operators slighly different: \r\n",
                "\r\n",
                "So + concatenates things, and * concatenates a list with self n number of times\r\n",
                "\r\n",
                "NUMPY uses things like matrices and Vectors for things, meaning that mathematical operations are handled slightly different than in JS. \r\n"
            ],
            "metadata": {}
        },
        {
            "cell_type": "markdown",
            "source": [
                "Problem #5!\r\n",
                "\r\n",
                "Write a function called tax_liability() that accepts a single parameter, income, and\r\n",
                "returns the tax liability. To keep this problem simple, assume the individual is always single,\r\n",
                "and only use the three tax brackets discussed here (so everything above $85,525 will still be\r\n",
                "taxed at the 22% rate).\r\n",
                "\r\n",
                "+ first bracket: 0 => $9875 10%\r\n",
                "+ second bracket: $9876 -> $40,125 12%\r\n",
                "+ third bracket: $40,126 -> $85,525 22%\r\n",
                "\r\n"
            ],
            "metadata": {}
        },
        {
            "cell_type": "code",
            "execution_count": 2,
            "source": [
                "def tax_liability(income):\r\n",
                "    tax_total = 0\r\n",
                "    first_bracket = 9875\r\n",
                "    second_bracket = 40125\r\n",
                "    #third_bracket = 85525\r\n",
                "\r\n",
                "    first_bracket_tax_rate = .1\r\n",
                "    second_bracket_tax_rate = .12\r\n",
                "    third_bracket_tax_rate = .22\r\n",
                "\r\n",
                "    if (income <= first_bracket):\r\n",
                "        tax_total = income * first_bracket_tax_rate\r\n",
                "    elif( income > first_bracket and income <= second_bracket):\r\n",
                "        tax_total = (first_bracket * first_bracket_tax_rate) + ( (income - first_bracket) * second_bracket_tax_rate)\r\n",
                "    elif( income > second_bracket):\r\n",
                "        tax_total = ((first_bracket * first_bracket_tax_rate) + ( (income - first_bracket) * second_bracket_tax_rate)) + ((income - first_bracket - second_bracket) * third_bracket_tax_rate)\r\n",
                "\r\n",
                "    return tax_total\r\n",
                "\r\n",
                "tax_liability(40125)\r\n",
                "\r\n",
                "    \r\n",
                "    "
            ],
            "outputs": [
                {
                    "output_type": "execute_result",
                    "data": {
                        "text/plain": [
                            "4617.5"
                        ]
                    },
                    "metadata": {},
                    "execution_count": 2
                }
            ],
            "metadata": {}
        },
        {
            "cell_type": "markdown",
            "source": [
                "# Problem 6.\r\n",
                " Now that we have seen how to use lists and NumPy arrays, let’s compare their\r\n",
                "abilities. Below are vectors A and B, write a function called prob6a() that defines them using\r\n",
                "the Python list data type. Use list comprehension to define the vectors. Return A · B, A + B,\r\n",
                "and 2A.\r\n",
                "In a separate function called prob6b() define A and B as NumPy arrays and return the\r\n",
                "A · B, A + B, and 5A.\r\n",
                "\r\n",
                "A = [1 2 3 4 5 6 7 ]\r\n",
                "B = [5 5 5 5 5 5 5 ]\r\n"
            ],
            "metadata": {}
        },
        {
            "cell_type": "code",
            "execution_count": 37,
            "source": [
                "import numpy as np\r\n",
                "\r\n",
                "\r\n",
                "list1 = [1, 2, 3, 4, 5, 6, 7 ]\r\n",
                "list2 = [5, 5, 5, 5, 5, 5, 5 ]\r\n",
                "\r\n",
                "\r\n",
                "#original function: seems legit.\r\n",
                "def prob6a(a, b):\r\n",
                "    # make an empty list to store values in multiplication across lists.  \r\n",
                "    multiples = []\r\n",
                "\r\n",
                "    #For loop it! \r\n",
                "    for num1, num2 in zip(a,b):\r\n",
                "        multiples.append(num1 * num2)\r\n",
                "\r\n",
                "    sum_of_lists = a + b\r\n",
                "\r\n",
                "    #make multiples of exact same list, N number of times. \r\n",
                "    two_times = 2 * a\r\n",
                "\r\n",
                "    return multiples,  sum_of_lists, two_times\r\n",
                "\r\n",
                "\r\n",
                "\r\n",
                "\r\n",
                "\r\n",
                "def prob6b(a, b):\r\n",
                "    #little conversion here\r\n",
                "\r\n",
                "    npArray1 = np.array(a)\r\n",
                "    npArray2 = np.array(b)\r\n",
                "\r\n",
                "    #Using different Numpy methods to achieve the same thing: using multiply for multiplying lists\r\n",
                "    np_multiplication = np.multiply(npArray1, npArray2)\r\n",
                "\r\n",
                "    #Numpy add for adding array items across the lists: \r\n",
                "    np_sum = np.add(npArray1, npArray2)\r\n",
                "    #Tile does something similar to multiplying against an array and just getting the array values copied x number of times. \r\n",
                "    # Could also use np.array(listName * number of times to multiply)\r\n",
                "    np_two_times = np.tile(npArray1, 2)\r\n",
                "\r\n",
                "    return np_multiplication, np_sum, np_two_times\r\n",
                "\r\n",
                "prob6a(list1, list2)\r\n",
                "prob6b(list1, list2)\r\n",
                "\r\n"
            ],
            "outputs": [
                {
                    "output_type": "execute_result",
                    "data": {
                        "text/plain": [
                            "([5, 10, 15, 20, 25, 30, 35],\n",
                            " [1, 2, 3, 4, 5, 6, 7, 5, 5, 5, 5, 5, 5, 5],\n",
                            " [1, 2, 3, 4, 5, 6, 7, 1, 2, 3, 4, 5, 6, 7])"
                        ]
                    },
                    "metadata": {},
                    "execution_count": 37
                }
            ],
            "metadata": {}
        },
        {
            "cell_type": "markdown",
            "source": [
                "# Chapter 2! \r\n",
                "- The power of a question mark \"?\"\r\n",
                "\r\n",
                "\r\n",
                "Need to check out a function for a built in? use function/method name followed by a question mark: ? "
            ],
            "metadata": {}
        }
    ],
    "metadata": {
        "orig_nbformat": 4,
        "language_info": {
            "name": "python",
            "version": "3.8.8",
            "mimetype": "text/x-python",
            "codemirror_mode": {
                "name": "ipython",
                "version": 3
            },
            "pygments_lexer": "ipython3",
            "nbconvert_exporter": "python",
            "file_extension": ".py"
        },
        "kernelspec": {
            "name": "python3",
            "display_name": "Python 3.8.8 64-bit ('base': conda)"
        },
        "interpreter": {
            "hash": "c21894d0330b3f748bfc20dc7634c8fe2121d74a2a48065d0f0f889b7826168c"
        }
    },
    "nbformat": 4,
    "nbformat_minor": 2
}