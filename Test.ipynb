{
    "cells": [
        {
            "cell_type": "markdown",
            "source": [
                "# This is fantastic! Itemized Python Cells! \r\n"
            ],
            "metadata": {}
        },
        {
            "cell_type": "markdown",
            "source": [
                "#### This is some of the sub-headers that can be created! \r\n",
                "\r\n"
            ],
            "metadata": {}
        },
        {
            "cell_type": "markdown",
            "source": [
                "Tutorial can be found [here](https://www.learnpython.org/)"
            ],
            "metadata": {}
        },
        {
            "cell_type": "markdown",
            "source": [
                "#### Intro to Python work: "
            ],
            "metadata": {}
        },
        {
            "cell_type": "code",
            "execution_count": 5,
            "source": [
                "print(\"Hello World! \")\r\n",
                "\r\n"
            ],
            "outputs": [
                {
                    "output_type": "stream",
                    "name": "stdout",
                    "text": [
                        "Hello World! \n"
                    ]
                }
            ],
            "metadata": {}
        },
        {
            "cell_type": "code",
            "execution_count": 4,
            "source": [
                "name = input(\"What's your name?:  \")\r\n",
                "print(\"Hello, {}\".format(name))"
            ],
            "outputs": [
                {
                    "output_type": "stream",
                    "name": "stdout",
                    "text": [
                        "Hello, Colin\n"
                    ]
                }
            ],
            "metadata": {}
        },
        {
            "cell_type": "markdown",
            "source": [
                "#### Some Variable work: \r\n"
            ],
            "metadata": {}
        },
        {
            "cell_type": "code",
            "execution_count": 3,
            "source": [
                "name = \"Colin\"\r\n",
                "print(name)"
            ],
            "outputs": [
                {
                    "output_type": "stream",
                    "name": "stdout",
                    "text": [
                        "Colin\n"
                    ]
                }
            ],
            "metadata": {}
        },
        {
            "cell_type": "markdown",
            "source": [
                "##### Float Numbers`"
            ],
            "metadata": {}
        },
        {
            "cell_type": "code",
            "execution_count": 13,
            "source": [
                "myFloat = 4.0\r\n",
                "print(myFloat)\r\n",
                "myFloat = float(5)\r\n",
                "print(myFloat)"
            ],
            "outputs": [
                {
                    "output_type": "stream",
                    "name": "stdout",
                    "text": [
                        "4.0\n",
                        "5.0\n"
                    ]
                }
            ],
            "metadata": {}
        },
        {
            "cell_type": "markdown",
            "source": [
                "##### String Storage"
            ],
            "metadata": {}
        },
        {
            "cell_type": "code",
            "execution_count": 14,
            "source": [
                "someText = \"Hello!\"\r\n",
                "print(someText)"
            ],
            "outputs": [
                {
                    "output_type": "stream",
                    "name": "stdout",
                    "text": [
                        "Hello!\n"
                    ]
                }
            ],
            "metadata": {}
        },
        {
            "cell_type": "markdown",
            "source": [
                "##### multi storage: \r\n"
            ],
            "metadata": {}
        },
        {
            "cell_type": "code",
            "execution_count": 15,
            "source": [
                "a,b = 3, 4\r\n",
                "print(a,b)"
            ],
            "outputs": [
                {
                    "output_type": "stream",
                    "name": "stdout",
                    "text": [
                        "3 4\n"
                    ]
                }
            ],
            "metadata": {}
        },
        {
            "cell_type": "markdown",
            "source": [
                "##### Lists! "
            ],
            "metadata": {}
        },
        {
            "cell_type": "code",
            "execution_count": 18,
            "source": [
                "myList = []\r\n",
                "myList.append(1)\r\n",
                "myList.append(2)\r\n",
                "myList.append(3)\r\n",
                "\r\n",
                "print(myList)\r\n",
                "\r\n",
                "#Also, some looping! \r\n",
                "\r\n",
                "\r\n",
                "for x in myList:\r\n",
                "    print(x)"
            ],
            "outputs": [
                {
                    "output_type": "stream",
                    "name": "stdout",
                    "text": [
                        "[1, 2, 3]\n",
                        "1\n",
                        "2\n",
                        "3\n"
                    ]
                }
            ],
            "metadata": {}
        },
        {
            "cell_type": "markdown",
            "source": [
                "### Math Time!"
            ],
            "metadata": {}
        },
        {
            "cell_type": "code",
            "execution_count": 20,
            "source": [
                "# all the fun features, including modulus(remainder)\r\n",
                "\r\n",
                "sum = 1 + 2\r\n",
                "subtract = 2 - 1\r\n",
                "multiply = 3 * 3\r\n",
                "divide = 21 / 7\r\n",
                "\r\n",
                "#How many times it can divide, and then returns the remainder of the value associated with it.\r\n",
                " \r\n",
                "remainder = 24 % 7\r\n",
                "\r\n",
                "print(sum)\r\n",
                "print(subtract)\r\n",
                "print(multiply)\r\n",
                "print(divide)\r\n",
                "print(remainder)\r\n"
            ],
            "outputs": [
                {
                    "output_type": "stream",
                    "name": "stdout",
                    "text": [
                        "3\n",
                        "1\n",
                        "9\n",
                        "3.0\n",
                        "3\n"
                    ]
                }
            ],
            "metadata": {}
        },
        {
            "cell_type": "markdown",
            "source": [
                "#### With Lists: "
            ],
            "metadata": {}
        },
        {
            "cell_type": "code",
            "execution_count": 21,
            "source": [
                "listOne = [1,2,3,4,5]\r\n",
                "listTwo = [6,7,8,9,10]\r\n",
                "\r\n",
                "cumulativeList = listOne + listTwo\r\n",
                "print(cumulativeList)\r\n"
            ],
            "outputs": [
                {
                    "output_type": "stream",
                    "name": "stdout",
                    "text": [
                        "[1, 2, 3, 4, 5, 6, 7, 8, 9, 10]\n"
                    ]
                }
            ],
            "metadata": {}
        },
        {
            "cell_type": "code",
            "execution_count": 22,
            "source": [
                "#Multiply: \r\n",
                "\r\n",
                "listThree = [1,3,5]\r\n",
                "print(listThree * 3)"
            ],
            "outputs": [
                {
                    "output_type": "stream",
                    "name": "stdout",
                    "text": [
                        "[1, 3, 5, 1, 3, 5, 1, 3, 5]\n"
                    ]
                }
            ],
            "metadata": {}
        },
        {
            "cell_type": "markdown",
            "source": [
                "### String Formatting: \r\n"
            ],
            "metadata": {}
        },
        {
            "cell_type": "code",
            "execution_count": 10,
            "source": [
                "#Using %s or %d for values to import variables as a string. \r\n",
                "\r\n",
                "\r\n",
                "name = \"Colin\"\r\n",
                "print(\"Hello, %s!\" % name)\r\n",
                "\r\n",
                "# This prints out \"Colin is 23 years old.\"\r\n",
                "age = 23\r\n",
                "print(\"%s is %d years old.\" % (name, age))\r\n",
                "\r\n",
                "\r\n",
                "#Lists can be printed too! \r\n",
                "\r\n",
                "fruits = [\"Apple\", \"Banana\", \"Orange\"]\r\n",
                "print(\"This is what I found: %s!\" % fruits)"
            ],
            "outputs": [
                {
                    "output_type": "stream",
                    "name": "stdout",
                    "text": [
                        "Hello, Colin!\n",
                        "Colin is 23 years old.\n",
                        "This is what I found: ['Apple', 'Banana', 'Orange']!\n"
                    ]
                }
            ],
            "metadata": {}
        },
        {
            "cell_type": "code",
            "execution_count": 2,
            "source": [
                "#Strings can have length( len(item))\r\n",
                "\r\n",
                "\r\n",
                "string = \"Hello World\"\r\n",
                "print(len(string))\r\n",
                "\r\n",
                "b"
            ],
            "outputs": [
                {
                    "output_type": "stream",
                    "name": "stdout",
                    "text": [
                        "11\n"
                    ]
                }
            ],
            "metadata": {}
        },
        {
            "cell_type": "code",
            "execution_count": 9,
            "source": [
                "#What about indexing items? \r\n",
                "\r\n",
                "print(string.index('o'))\r\n",
                "\r\n",
                "# Counting number of items? \r\n",
                "print(string.count(\"o\"))\r\n",
                "\r\n",
                "#printing sections of the string can be done by setting a start and end point(Slice) for the characters: \r\n",
                "print(string[3:8])\r\n",
                "\r\n",
                "#Reverse? Set the slice at  [::-1]\r\n",
                "print(string[::-1])\r\n",
                "\r\n",
                "#Upper? \r\n",
                "print(string.upper())\r\n",
                "\r\n",
                "#ALSO! Variables can be passed through the notebook\r\n"
            ],
            "outputs": [
                {
                    "output_type": "stream",
                    "name": "stdout",
                    "text": [
                        "4\n",
                        "2\n",
                        "lo Wo\n",
                        "dlroW olleH\n",
                        "HELLO WORLD\n"
                    ]
                }
            ],
            "metadata": {}
        },
        {
            "cell_type": "code",
            "execution_count": 11,
            "source": [
                "#String Validation: \r\n",
                "\r\n",
                "if string == \"Hello World\" and name == \"Colin\":\r\n",
                "    print(\"It works! Hello World and Colin are correct\")"
            ],
            "outputs": [
                {
                    "output_type": "stream",
                    "name": "stdout",
                    "text": [
                        "It works! Hello World and Colin are correct\n"
                    ]
                }
            ],
            "metadata": {}
        },
        {
            "cell_type": "markdown",
            "source": [
                "#### API CALLS! \r\n"
            ],
            "metadata": {}
        },
        {
            "cell_type": "code",
            "execution_count": 11,
            "source": [
                "import requests\r\n",
                "\r\n",
                "r = requests.get(\"https://swapi.dev/api/people/1\")\r\n",
                "\r\n",
                "r.status_code\r\n",
                "content = r.content\r\n",
                "print(content)"
            ],
            "outputs": [
                {
                    "output_type": "stream",
                    "name": "stdout",
                    "text": [
                        "b'{\"name\":\"Luke Skywalker\",\"height\":\"172\",\"mass\":\"77\",\"hair_color\":\"blond\",\"skin_color\":\"fair\",\"eye_color\":\"blue\",\"birth_year\":\"19BBY\",\"gender\":\"male\",\"homeworld\":\"https://swapi.dev/api/planets/1/\",\"films\":[\"https://swapi.dev/api/films/1/\",\"https://swapi.dev/api/films/2/\",\"https://swapi.dev/api/films/3/\",\"https://swapi.dev/api/films/6/\"],\"species\":[],\"vehicles\":[\"https://swapi.dev/api/vehicles/14/\",\"https://swapi.dev/api/vehicles/30/\"],\"starships\":[\"https://swapi.dev/api/starships/12/\",\"https://swapi.dev/api/starships/22/\"],\"created\":\"2014-12-09T13:50:51.644000Z\",\"edited\":\"2014-12-20T21:17:56.891000Z\",\"url\":\"https://swapi.dev/api/people/1/\"}'\n"
                    ]
                }
            ],
            "metadata": {}
        },
        {
            "cell_type": "code",
            "execution_count": 9,
            "source": [
                "import pandas as pd\r\n",
                "import requests\r\n",
                "\r\n",
                "usgsValueAPI = \"https://waterservices.usgs.gov/nwis/iv/?format=rdb&sites=03179000&period=p7d&parameterCd=00060&siteStatus=all\"\r\n",
                "values = requests.get(usgsValueAPI)\r\n",
                "print(values.content)\r\n",
                "\r\n",
                "\r\n",
                "\r\n",
                " \r\n"
            ],
            "outputs": [],
            "metadata": {}
        }
    ],
    "metadata": {
        "orig_nbformat": 4,
        "language_info": {
            "name": "python",
            "version": "3.8.8",
            "mimetype": "text/x-python",
            "codemirror_mode": {
                "name": "ipython",
                "version": 3
            },
            "pygments_lexer": "ipython3",
            "nbconvert_exporter": "python",
            "file_extension": ".py"
        },
        "kernelspec": {
            "name": "python3",
            "display_name": "Python 3.8.8 64-bit ('base': conda)"
        },
        "interpreter": {
            "hash": "c21894d0330b3f748bfc20dc7634c8fe2121d74a2a48065d0f0f889b7826168c"
        }
    },
    "nbformat": 4,
    "nbformat_minor": 2
}