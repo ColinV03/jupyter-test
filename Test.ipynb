{
    "cells": [
        {
            "cell_type": "markdown",
            "source": [
                "# This is fantastic! Itemized Python Cells! \r\n"
            ],
            "metadata": {}
        },
        {
            "cell_type": "markdown",
            "source": [
                "#### This is some of the sub-headers that can be created! \r\n",
                "\r\n"
            ],
            "metadata": {}
        },
        {
            "cell_type": "markdown",
            "source": [
                "Tutorial can be found [here](https://www.learnpython.org/)"
            ],
            "metadata": {}
        },
        {
            "cell_type": "markdown",
            "source": [
                "#### Intro to Python work: "
            ],
            "metadata": {}
        },
        {
            "cell_type": "code",
            "execution_count": null,
            "source": [
                "print(\"Hello World! \")\r\n",
                "\r\n"
            ],
            "outputs": [],
            "metadata": {}
        },
        {
            "cell_type": "code",
            "execution_count": null,
            "source": [
                "name = input(\"What's your name?:  \")\r\n",
                "print(\"Hello, {}\".format(name))"
            ],
            "outputs": [],
            "metadata": {}
        },
        {
            "cell_type": "markdown",
            "source": [
                "#### Some Variable work: \r\n"
            ],
            "metadata": {}
        },
        {
            "cell_type": "code",
            "execution_count": null,
            "source": [
                "name = \"Colin\"\r\n",
                "print(name)"
            ],
            "outputs": [],
            "metadata": {}
        },
        {
            "cell_type": "markdown",
            "source": [
                "##### Float Numbers`"
            ],
            "metadata": {}
        },
        {
            "cell_type": "code",
            "execution_count": null,
            "source": [
                "myFloat = 4.0\r\n",
                "print(myFloat)\r\n",
                "myFloat = float(5)\r\n",
                "print(myFloat)"
            ],
            "outputs": [],
            "metadata": {}
        },
        {
            "cell_type": "markdown",
            "source": [
                "##### String Storage"
            ],
            "metadata": {}
        },
        {
            "cell_type": "code",
            "execution_count": null,
            "source": [
                "someText = \"Hello!\"\r\n",
                "print(someText)"
            ],
            "outputs": [],
            "metadata": {}
        },
        {
            "cell_type": "markdown",
            "source": [
                "##### multi storage: \r\n"
            ],
            "metadata": {}
        },
        {
            "cell_type": "code",
            "execution_count": null,
            "source": [
                "a,b = 3, 4\r\n",
                "print(a,b)"
            ],
            "outputs": [],
            "metadata": {}
        },
        {
            "cell_type": "markdown",
            "source": [
                "##### Lists! "
            ],
            "metadata": {}
        },
        {
            "cell_type": "code",
            "execution_count": null,
            "source": [
                "myList = []\r\n",
                "myList.append(1)\r\n",
                "myList.append(2)\r\n",
                "myList.append(3)\r\n",
                "\r\n",
                "print(myList)\r\n",
                "\r\n",
                "#Also, some looping! \r\n",
                "\r\n",
                "\r\n",
                "for x in myList:\r\n",
                "    print(x)"
            ],
            "outputs": [],
            "metadata": {}
        },
        {
            "cell_type": "markdown",
            "source": [
                "### Math Time!"
            ],
            "metadata": {}
        },
        {
            "cell_type": "code",
            "execution_count": null,
            "source": [
                "# all the fun features, including modulus(remainder)\r\n",
                "\r\n",
                "sum = 1 + 2\r\n",
                "subtract = 2 - 1\r\n",
                "multiply = 3 * 3\r\n",
                "divide = 21 / 7\r\n",
                "\r\n",
                "#How many times it can divide, and then returns the remainder of the value associated with it.\r\n",
                " \r\n",
                "remainder = 24 % 7\r\n",
                "\r\n",
                "print(sum)\r\n",
                "print(subtract)\r\n",
                "print(multiply)\r\n",
                "print(divide)\r\n",
                "print(remainder)\r\n"
            ],
            "outputs": [],
            "metadata": {}
        },
        {
            "cell_type": "markdown",
            "source": [
                "#### With Lists: "
            ],
            "metadata": {}
        },
        {
            "cell_type": "code",
            "execution_count": null,
            "source": [
                "listOne = [1,2,3,4,5]\r\n",
                "listTwo = [6,7,8,9,10]\r\n",
                "\r\n",
                "cumulativeList = listOne + listTwo\r\n",
                "print(cumulativeList)\r\n"
            ],
            "outputs": [],
            "metadata": {}
        },
        {
            "cell_type": "code",
            "execution_count": null,
            "source": [
                "#Multiply: \r\n",
                "\r\n",
                "listThree = [1,3,5]\r\n",
                "print(listThree * 3)"
            ],
            "outputs": [],
            "metadata": {}
        },
        {
            "cell_type": "markdown",
            "source": [
                "### String Formatting: \r\n"
            ],
            "metadata": {}
        },
        {
            "cell_type": "code",
            "execution_count": null,
            "source": [
                "#Using %s or %d for values to import variables as a string. \r\n",
                "\r\n",
                "\r\n",
                "name = \"Colin\"\r\n",
                "print(\"Hello, %s!\" % name)\r\n",
                "\r\n",
                "# This prints out \"Colin is 23 years old.\"\r\n",
                "age = 23\r\n",
                "print(\"%s is %d years old.\" % (name, age))\r\n",
                "\r\n",
                "\r\n",
                "#Lists can be printed too! \r\n",
                "\r\n",
                "fruits = [\"Apple\", \"Banana\", \"Orange\"]\r\n",
                "print(\"This is what I found: %s!\" % fruits)"
            ],
            "outputs": [],
            "metadata": {}
        },
        {
            "cell_type": "code",
            "execution_count": null,
            "source": [
                "#Strings can have length( len(item))\r\n",
                "\r\n",
                "\r\n",
                "string = \"Hello World\"\r\n",
                "print(len(string))\r\n",
                "\r\n",
                "b"
            ],
            "outputs": [],
            "metadata": {}
        },
        {
            "cell_type": "code",
            "execution_count": null,
            "source": [
                "#What about indexing items? \r\n",
                "\r\n",
                "print(string.index('o'))\r\n",
                "\r\n",
                "# Counting number of items? \r\n",
                "print(string.count(\"o\"))\r\n",
                "\r\n",
                "#printing sections of the string can be done by setting a start and end point(Slice) for the characters: \r\n",
                "print(string[3:8])\r\n",
                "\r\n",
                "#Reverse? Set the slice at  [::-1]\r\n",
                "print(string[::-1])\r\n",
                "\r\n",
                "#Upper? \r\n",
                "print(string.upper())\r\n",
                "\r\n",
                "#ALSO! Variables can be passed through the notebook\r\n"
            ],
            "outputs": [],
            "metadata": {}
        },
        {
            "cell_type": "code",
            "execution_count": null,
            "source": [
                "#String Validation: \r\n",
                "\r\n",
                "if string == \"Hello World\" and name == \"Colin\":\r\n",
                "    print(\"It works! Hello World and Colin are correct\")"
            ],
            "outputs": [],
            "metadata": {}
        },
        {
            "cell_type": "markdown",
            "source": [
                "#### API CALLS! \r\n"
            ],
            "metadata": {}
        },
        {
            "cell_type": "code",
            "execution_count": null,
            "source": [
                "#import requests\r\n",
                "\r\n",
                "#r = requests.get(\"https://swapi.dev/api/people/1\")\r\n",
                "\r\n",
                "#r.status_code\r\n",
                "#content = r.content\r\n",
                "#print(content)"
            ],
            "outputs": [],
            "metadata": {}
        },
        {
            "cell_type": "code",
            "execution_count": null,
            "source": [
                "#import pandas as pd\r\n",
                "#mport requests\r\n",
                "\r\n",
                "#usgsValueAPI = \"https://waterservices.usgs.gov/nwis/iv/?format=json&sites=03179000&period=p2d&parameterCd=00060&siteStatus=all\"\r\n",
                "#values = requests.get(usgsValueAPI)\r\n",
                "#print(values.content)\r\n",
                "\r\n",
                "#waterData = pd.read_json(usgsValueAPI)\r\n",
                "#print(waterData)\r\n",
                "\r\n",
                "\r\n",
                "#df_nested_list = pd.json_normalize(usgsValueAPI, record_path=[\"timeSeries\"])\r\n",
                "\r\n",
                "\r\n",
                "\r\n",
                " \r\n"
            ],
            "outputs": [],
            "metadata": {}
        },
        {
            "cell_type": "code",
            "execution_count": null,
            "source": [
                "name = \"Colin\"\r\n",
                "print(name.find(\"li\"))"
            ],
            "outputs": [],
            "metadata": {}
        },
        {
            "cell_type": "code",
            "execution_count": null,
            "source": [
                "word = \"         bananana\"\r\n",
                "i = word.find(\"na\") \r\n",
                "print(i)\r\n",
                "print(word)\r\n",
                "print(word.lstrip())\r\n",
                "print(word.rstrip())\r\n",
                "print(word)\r\n"
            ],
            "outputs": [],
            "metadata": {}
        },
        {
            "cell_type": "markdown",
            "source": [
                "# Opening a File! \r\n",
                "\r\n",
                "handle = open()\r\n",
                "\r\n",
                "# Files are read in a sequence of Lines: all broken up by whitespace characters(\\n)\r\n",
                "\r\n",
                "## What about files as a sequence: \r\n",
                "\r\n",
                "handle  = open(\"filename\")\r\n",
                "\r\n",
                "## FOR EACH LINE: PRINT LINE\r\n",
                "\r\n",
                "for variable in handle:\r\n",
                "    #print(variable)\r\n",
                "\r\n",
                "\r\n"
            ],
            "metadata": {}
        },
        {
            "cell_type": "code",
            "execution_count": null,
            "source": [
                "#Opening a File! \r\n",
                "\r\n",
                "#handle = open()\r\n",
                "\r\n",
                "#Files are read in a sequence of Lines: all broken up by whitespace characters(\\n)\r\n",
                "\r\n",
                "#What about files as a sequence: \r\n",
                "\r\n",
                "#handle  = open(\"filename\")\r\n",
                "\r\n",
                "###FOR EACH LINE: PRINT LINE\r\n",
                "\r\n",
                "#for variable in handle:\r\n",
                "    #print(variable)"
            ],
            "outputs": [],
            "metadata": {}
        },
        {
            "cell_type": "code",
            "execution_count": null,
            "source": [
                "#Read the whole file: \r\n",
                "\r\n",
                "# results = handle.read()b\r\n",
                "#print(results)\r\n",
                "\r\n"
            ],
            "outputs": [],
            "metadata": {}
        },
        {
            "cell_type": "markdown",
            "source": [
                "What about finding things with \"From\""
            ],
            "metadata": {}
        },
        {
            "cell_type": "code",
            "execution_count": null,
            "source": [
                "#fhand = open(filename)\r\n",
                "#or line in fhand:\r\n",
                " #   if line.startswith(\"From:\" ):\r\n",
                "  #      print(line)\r\n",
                "\r\n",
                "\r\n",
                "#BUT it prints a new line each time! \r\n",
                "#remove whitespace with .rstrip()\r\n",
                "\r\n"
            ],
            "outputs": [],
            "metadata": {}
        },
        {
            "cell_type": "markdown",
            "source": [
                "### Using Continue!\r\n",
                "\r\n",
                "Continue steps out of current function, goes to next. "
            ],
            "metadata": {}
        },
        {
            "cell_type": "markdown",
            "source": [
                "## What about Try and Continue: "
            ],
            "metadata": {}
        },
        {
            "cell_type": "code",
            "execution_count": null,
            "source": [
                "fname = print(input(\"Enter file name: \"))\r\n",
                "try: \r\n",
                "    fopen = open(fname)\r\n",
                "except:\r\n",
                "    print(\"File cannot be opened: \", fname)\r\n",
                "    quit()\r\n"
            ],
            "outputs": [],
            "metadata": {}
        },
        {
            "cell_type": "markdown",
            "source": [
                "# Lists: "
            ],
            "metadata": {}
        },
        {
            "cell_type": "code",
            "execution_count": 4,
            "source": [
                "sampleList = [1,2,3]\r\n",
                "print(sampleList[1]) \r\n",
                "print(range(len(sampleList)))"
            ],
            "outputs": [
                {
                    "output_type": "stream",
                    "name": "stdout",
                    "text": [
                        "2\n",
                        "range(0, 3)\n"
                    ]
                }
            ],
            "metadata": {}
        },
        {
            "cell_type": "markdown",
            "source": [
                "# Dictionaries! "
            ],
            "metadata": {}
        },
        {
            "cell_type": "markdown",
            "source": [
                "#### looks a lot like JS Objects! K-V pairs!\r\n",
                "\r\n",
                "Some common applications: "
            ],
            "metadata": {}
        },
        {
            "cell_type": "code",
            "execution_count": 46,
            "source": [
                "names = [ 'quincy', 'mrugesh' , 'beau', \"beau\"]\r\n",
                "\r\n",
                "#Check if item is in dictionary: \r\n",
                "\"colin\" in names\r\n",
                "\r\n",
                "#So what happens if it's new? \r\n",
                "counts = dict()\r\n",
                "for name in names:\r\n",
                "    if name not in counts:\r\n",
                "        counts[name] = 1\r\n",
                "    else:\r\n",
                "        counts[name] = counts[name] + 1\r\n",
                "print(counts)\r\n",
                "\r\n",
                "\r\n",
                "# What about Get? \r\n",
                "# Checking if the key is in there: variable = dictionaryName.get(\"Key\", default)\r\n",
                "\r\n",
                "#False: Expected = 0\r\n",
                "nameInDict = counts.get(\"colin\", 0)\r\n",
                "print(nameInDict)\r\n",
                "\r\n",
                "# True: expected = 1\r\n",
                "nameInDict = counts.get(\"quincy\", 0)\r\n",
                "print(nameInDict)\r\n",
                "\r\n",
                "# orrrrrr:\r\n",
                "# \r\n",
                "# do the counts this way:  \r\n",
                "counts2 = dict()\r\n",
                "for name in names: \r\n",
                "    counts2[name] = counts2.get(name, 0) + 1\r\n",
                "print(  counts2)\r\n",
                "print(\"list: \", list(counts2))\r\n",
                "print(\"Keys: \", counts2.keys())\r\n",
                "print(\"Values \" ,counts2.values())\r\n",
                "print(\"Tuple! \", counts2.items())\r\n",
                "        "
            ],
            "outputs": [
                {
                    "output_type": "stream",
                    "name": "stdout",
                    "text": [
                        "{'quincy': 1, 'mrugesh': 1, 'beau': 2}\n",
                        "0\n",
                        "1\n",
                        "{'quincy': 1, 'mrugesh': 1, 'beau': 2}\n",
                        "list:  ['quincy', 'mrugesh', 'beau']\n",
                        "Keys:  dict_keys(['quincy', 'mrugesh', 'beau'])\n",
                        "Values  dict_values([1, 1, 2])\n",
                        "Tuple!  dict_items([('quincy', 1), ('mrugesh', 1), ('beau', 2)])\n"
                    ]
                }
            ],
            "metadata": {}
        },
        {
            "cell_type": "code",
            "execution_count": 47,
            "source": [
                "# count things in paragraphs. \r\n",
                "\r\n",
                "counting = dict()\r\n",
                "print(\"Enter a line of text...\")\r\n",
                "line = \"The quick brown fox jumped over the lazy dog dog\"\r\n",
                "\r\n",
                "\r\n",
                "words = line.split()\r\n",
                "\r\n",
                "print(\"Words: \", words)\r\n",
                "\r\n",
                "print(\"Counting...\")\r\n",
                "for word in words:\r\n",
                "    counting[word] = counting.get(word, 0) + 1\r\n",
                "print(\"Counts: \", counting)\r\n",
                "\r\n",
                "print(max(counting, key= counting.get))\r\n",
                "\r\n",
                "        \r\n"
            ],
            "outputs": [
                {
                    "output_type": "stream",
                    "name": "stdout",
                    "text": [
                        "Enter a line of text...\n",
                        "Words:  ['The', 'quick', 'brown', 'fox', 'jumped', 'over', 'the', 'lazy', 'dog', 'dog']\n",
                        "Counting...\n",
                        "Counts:  {'The': 1, 'quick': 1, 'brown': 1, 'fox': 1, 'jumped': 1, 'over': 1, 'the': 1, 'lazy': 1, 'dog': 2}\n",
                        "dog\n"
                    ]
                }
            ],
            "metadata": {}
        }
    ],
    "metadata": {
        "orig_nbformat": 4,
        "language_info": {
            "name": "python",
            "version": "3.8.8",
            "mimetype": "text/x-python",
            "codemirror_mode": {
                "name": "ipython",
                "version": 3
            },
            "pygments_lexer": "ipython3",
            "nbconvert_exporter": "python",
            "file_extension": ".py"
        },
        "kernelspec": {
            "name": "python3",
            "display_name": "Python 3.8.8 64-bit ('base': conda)"
        },
        "interpreter": {
            "hash": "c21894d0330b3f748bfc20dc7634c8fe2121d74a2a48065d0f0f889b7826168c"
        }
    },
    "nbformat": 4,
    "nbformat_minor": 2
}